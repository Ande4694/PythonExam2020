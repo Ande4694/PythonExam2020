{
 "cells": [
  {
   "cell_type": "code",
   "execution_count": 7,
   "metadata": {},
   "outputs": [],
   "source": [
    "class Hund():\n",
    "    \n",
    "    __good = 'Very good dog'\n",
    "    \n",
    "    def __init__(self, race, name, age, isFemale=None):\n",
    "        self.__race = race\n",
    "        self.__name = name\n",
    "        self.__age = age\n",
    "        self.__isFemale = isFemale\n",
    "        \n",
    "    @property\n",
    "    def race(self):\n",
    "        return self.__race\n",
    "    \n",
    "    @property\n",
    "    def name(self):\n",
    "        return self.__name\n",
    "        \n",
    "    @property\n",
    "    def age(self):\n",
    "        return self.__age\n",
    "    \n",
    "    @property\n",
    "    def isFemale(self):\n",
    "        if self.__isFemale == True:\n",
    "            return 'Female'\n",
    "        else:\n",
    "            return 'Male'\n",
    "    \n",
    "    @property\n",
    "    def good(self):\n",
    "        return self.__good\n",
    "    \n",
    "    @race.setter\n",
    "    def race(self, new_race):\n",
    "        secret_code = input(\"Enter the high-level code to change {}'s race :\".format(self.name))\n",
    "        if secret_code == 'Tjubang123':\n",
    "            self.__race = new_race\n",
    "            print('Right code, much success\\nnew race: {}'.format(self.__race))\n",
    "        else:\n",
    "            print('wrong code, very secret, much sneak')\n",
    "    \n",
    "    def __repr__(self):\n",
    "        return str(self.__dict__)\n",
    "    \n",
    "    def bark(self):\n",
    "        if self.age > 5:\n",
    "            bark = 'vuf'\n",
    "        else:\n",
    "            bark = 'vuf vuf'\n",
    "        print('{0} says: {1}'.format(self.name, bark))"
   ]
  },
  {
   "cell_type": "code",
   "execution_count": 8,
   "metadata": {},
   "outputs": [],
   "source": [
    "my_dog = Hund('Buller', 'Loke', 6)\n",
    "min_hund = Hund(name = 'Loke', race = 'Buller', age = 4, isFemale = False)"
   ]
  },
  {
   "cell_type": "code",
   "execution_count": 10,
   "metadata": {},
   "outputs": [
    {
     "name": "stdout",
     "output_type": "stream",
     "text": [
      "{'_Hund__race': 'Buller', '_Hund__name': 'Loke', '_Hund__age': 6, '_Hund__isFemale': None}\n",
      "{'_Hund__race': 'Fransk bulldog - Beagle - Dansk/Svensk', '_Hund__name': 'Loke', '_Hund__age': 4, '_Hund__isFemale': False}\n",
      "Loke says: vuf\n",
      "Loke says: vuf vuf\n",
      "4\n",
      "Enter the high-level code to change Loke's race :Tjubang123\n",
      "Right code, much success\n",
      "new race: Fransk bulldog - Beagle - Dansk/Svensk\n",
      "Male\n",
      "Very good dog\n"
     ]
    }
   ],
   "source": [
    "print(my_dog)\n",
    "print(min_hund)\n",
    "my_dog.bark()\n",
    "min_hund.bark()\n",
    "print(min_hund.age)\n",
    "min_hund.race = 'Fransk bulldog - Beagle - Dansk/Svensk'\n",
    "print(min_hund.isFemale)\n",
    "print(min_hund.good)"
   ]
  },
  {
   "cell_type": "code",
   "execution_count": 15,
   "metadata": {},
   "outputs": [],
   "source": [
    "class Circle:\n",
    "    \n",
    "    pi = 3.14\n",
    "    \n",
    "    def __init__(self, radius=1):\n",
    "        \n",
    "        self.radius = radius\n",
    "        self.areal = radius*radius*Circle.pi\n",
    "    \n",
    "    def get_omkreds(self):\n",
    "        return self.radius * self.pi * 2"
   ]
  },
  {
   "cell_type": "code",
   "execution_count": 16,
   "metadata": {},
   "outputs": [],
   "source": [
    "class Animal:\n",
    "    \n",
    "    def __init__(self):\n",
    "        print('Animal created!')\n",
    "        \n",
    "    def eat(self):\n",
    "        print('i am eating')\n",
    "        \n",
    "    def who_am_i(self):\n",
    "        print('i am me')"
   ]
  },
  {
   "cell_type": "code",
   "execution_count": 23,
   "metadata": {},
   "outputs": [],
   "source": [
    "class Cat(Animal):\n",
    "    \n",
    "    def __init__(self):\n",
    "        Animal.__init__(self)\n",
    "        print('Cat created!')\n",
    "        \n",
    "    def who_am_i(self):\n",
    "        \n",
    "        print('i am a cat')\n",
    "            "
   ]
  },
  {
   "cell_type": "code",
   "execution_count": 25,
   "metadata": {},
   "outputs": [
    {
     "name": "stdout",
     "output_type": "stream",
     "text": [
      "Animal created!\n",
      "Cat created!\n"
     ]
    }
   ],
   "source": [
    "my_cat = Cat()"
   ]
  },
  {
   "cell_type": "code",
   "execution_count": 26,
   "metadata": {},
   "outputs": [
    {
     "name": "stdout",
     "output_type": "stream",
     "text": [
      "i am a cat\n"
     ]
    }
   ],
   "source": [
    "my_cat.who_am_i()"
   ]
  },
  {
   "cell_type": "code",
   "execution_count": 27,
   "metadata": {},
   "outputs": [
    {
     "name": "stdout",
     "output_type": "stream",
     "text": [
      "i am eating\n"
     ]
    }
   ],
   "source": [
    "my_cat.eat()"
   ]
  },
  {
   "cell_type": "code",
   "execution_count": null,
   "metadata": {},
   "outputs": [],
   "source": []
  },
  {
   "cell_type": "code",
   "execution_count": 38,
   "metadata": {},
   "outputs": [],
   "source": [
    "class Hamster():\n",
    "    def __init__(self, name):\n",
    "        self.name = name\n",
    "        \n",
    "    def speak(self):\n",
    "        return self.name + ' says nam nam'"
   ]
  },
  {
   "cell_type": "code",
   "execution_count": 41,
   "metadata": {},
   "outputs": [],
   "source": [
    "class Rabbit():\n",
    "    def __init__(self, name):\n",
    "        self.name = name\n",
    "        \n",
    "    def speak(self):\n",
    "        return self.name + ' says piv piv'"
   ]
  },
  {
   "cell_type": "code",
   "execution_count": 42,
   "metadata": {},
   "outputs": [
    {
     "data": {
      "text/plain": [
       "'Bugs says piv piv'"
      ]
     },
     "execution_count": 42,
     "metadata": {},
     "output_type": "execute_result"
    }
   ],
   "source": [
    "bugs = Rabbit('Bugs')\n",
    "bugs.speak()"
   ]
  },
  {
   "cell_type": "code",
   "execution_count": 43,
   "metadata": {},
   "outputs": [
    {
     "data": {
      "text/plain": [
       "'Hamtaro says nam nam'"
      ]
     },
     "execution_count": 43,
     "metadata": {},
     "output_type": "execute_result"
    }
   ],
   "source": [
    "hamtaro = Hamster('Hamtaro')\n",
    "hamtaro.speak()"
   ]
  },
  {
   "cell_type": "code",
   "execution_count": 46,
   "metadata": {},
   "outputs": [
    {
     "name": "stdout",
     "output_type": "stream",
     "text": [
      "<class '__main__.Rabbit'>\n",
      "<class 'str'>\n",
      "Bugs says piv piv\n",
      "<class '__main__.Hamster'>\n",
      "<class 'str'>\n",
      "Hamtaro says nam nam\n"
     ]
    }
   ],
   "source": [
    "for pet in [bugs, hamtaro]:\n",
    "    print(type(pet))\n",
    "    print(type(pet.speak()))\n",
    "    print(pet.speak())"
   ]
  },
  {
   "cell_type": "code",
   "execution_count": 47,
   "metadata": {},
   "outputs": [],
   "source": [
    "def pet_speak(pet):\n",
    "    print(pet.speak())"
   ]
  },
  {
   "cell_type": "code",
   "execution_count": 51,
   "metadata": {},
   "outputs": [
    {
     "name": "stdout",
     "output_type": "stream",
     "text": [
      "Bugs says piv piv\n",
      "Hamtaro says nam nam\n"
     ]
    }
   ],
   "source": [
    "pet_speak(bugs)\n",
    "pet_speak(hamtaro)"
   ]
  },
  {
   "cell_type": "markdown",
   "metadata": {},
   "source": [
    "Abstract class !!!"
   ]
  },
  {
   "cell_type": "code",
   "execution_count": 52,
   "metadata": {},
   "outputs": [],
   "source": [
    "class Dyr():\n",
    "    def __init__(self, name):\n",
    "        self.name = name\n",
    "        \n",
    "    def speak(self):\n",
    "        raise NotImplementedError ('Subclass must implement this abstract message')"
   ]
  },
  {
   "cell_type": "code",
   "execution_count": 57,
   "metadata": {},
   "outputs": [],
   "source": [
    "class Dog(Dyr):\n",
    "    \n",
    "    def speak(self):\n",
    "        return self.name + \" says vov\""
   ]
  },
  {
   "cell_type": "code",
   "execution_count": 58,
   "metadata": {},
   "outputs": [],
   "source": [
    "class Cat(Dyr):\n",
    "    \n",
    "    def speak(self):\n",
    "        return self.name + \" says miav\""
   ]
  },
  {
   "cell_type": "code",
   "execution_count": 59,
   "metadata": {},
   "outputs": [],
   "source": [
    "class Hamster(Dyr):\n",
    "    \n",
    "    def speak(self):\n",
    "        return self.name + \" says piv\""
   ]
  },
  {
   "cell_type": "code",
   "execution_count": 62,
   "metadata": {},
   "outputs": [],
   "source": [
    "class Idiot(Dyr):\n",
    "    \n",
    "    def speak(self):\n",
    "        return self.name + \" says random shit\""
   ]
  },
  {
   "cell_type": "code",
   "execution_count": 64,
   "metadata": {},
   "outputs": [
    {
     "name": "stdout",
     "output_type": "stream",
     "text": [
      "Fido says vov\n",
      "Johnson says miav\n",
      "Hamtaro says piv\n",
      "Trump says random shit\n"
     ]
    }
   ],
   "source": [
    "fido = Dog('Fido')\n",
    "johnson = Cat('Johnson')\n",
    "hamtaro = Hamster('Hamtaro')\n",
    "trump = Idiot('Trump')\n",
    "\n",
    "for pet in [fido, johnson, hamtaro, trump]:\n",
    "    print(pet.speak())"
   ]
  },
  {
   "cell_type": "markdown",
   "metadata": {},
   "source": [
    "ku f.eks. bruges til filer,mange filer har forskelig måde at blive brugt, men de deler alle at de skale \"åbnes\""
   ]
  },
  {
   "cell_type": "code",
   "execution_count": 65,
   "metadata": {},
   "outputs": [],
   "source": []
  },
  {
   "cell_type": "code",
   "execution_count": null,
   "metadata": {},
   "outputs": [],
   "source": []
  }
 ],
 "metadata": {
  "kernelspec": {
   "display_name": "Python 3",
   "language": "python",
   "name": "python3"
  },
  "language_info": {
   "codemirror_mode": {
    "name": "ipython",
    "version": 3
   },
   "file_extension": ".py",
   "mimetype": "text/x-python",
   "name": "python",
   "nbconvert_exporter": "python",
   "pygments_lexer": "ipython3",
   "version": "3.7.4"
  }
 },
 "nbformat": 4,
 "nbformat_minor": 2
}
