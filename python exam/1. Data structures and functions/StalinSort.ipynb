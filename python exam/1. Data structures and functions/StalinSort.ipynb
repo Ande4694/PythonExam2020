{
 "cells": [
  {
   "cell_type": "code",
   "execution_count": 49,
   "metadata": {},
   "outputs": [],
   "source": [
    "def stalin_sort(a_list):\n",
    "    \"\"\"\n",
    "    log-N kompleks sortering\n",
    "    Går fra lavest til højest i en liste, alle værdi der ikke er \"in order\" bliver \"elimineret\"\n",
    "    \"\"\"\n",
    "    passnum = len(a_list)-1     #holder til længde på listen\n",
    "    ny_list = []                #ny liste \n",
    "    ny_list.append(a_list[0])   #første element fra org.liste er tilføjet\n",
    "    for i in range(passnum): \n",
    "        if a_list[i] < a_list[i+1]:    #hvis næste værdi i org.liste er større\n",
    "           ny_list.append(a_list[i+1])\n",
    "    return ny_list"
   ]
  },
  {
   "cell_type": "code",
   "execution_count": 50,
   "metadata": {
    "scrolled": true
   },
   "outputs": [
    {
     "name": "stdout",
     "output_type": "stream",
     "text": [
      "[41, 1, 30, 6, 35, 38, 80, 51, 94, 39]\n"
     ]
    }
   ],
   "source": [
    "alist = [1,2,3,49,10,2]\n",
    "print(alist)\n",
    "sorted_list = stalin_sort(alist)\n",
    "sorted_list"
   ]
  },
  {
   "cell_type": "code",
   "execution_count": 51,
   "metadata": {},
   "outputs": [
    {
     "name": "stdout",
     "output_type": "stream",
     "text": [
      "[41, 1, 30, 6, 35, 38, 80, 51, 94, 39]\n"
     ]
    },
    {
     "data": {
      "text/plain": [
       "[41, 30, 35, 38, 80, 94]"
      ]
     },
     "execution_count": 51,
     "metadata": {},
     "output_type": "execute_result"
    }
   ],
   "source": []
  },
  {
   "cell_type": "code",
   "execution_count": 22,
   "metadata": {},
   "outputs": [
    {
     "name": "stdout",
     "output_type": "stream",
     "text": [
      "Original: [1, 2, 3, 4, 5, 6, 7, 8, 9]\n",
      "Sorted: [1, 2, 3, 4, 5, 6, 7, 8, 9]\n",
      "\n",
      "Original: [9, 8, 7, 6, 5, 4, 3, 2, 1]\n",
      "Sorted: [9]\n",
      "\n",
      "Original: [1, 3, 2, 5, 4, 7, 6, 9, 8]\n",
      "Sorted: [1, 3, 5, 7, 9]\n",
      "\n",
      "Original: [1, 5, 2, 4]\n",
      "Sorted: [1, 5]\n",
      "\n"
     ]
    }
   ],
   "source": []
  },
  {
   "cell_type": "code",
   "execution_count": null,
   "metadata": {},
   "outputs": [],
   "source": []
  }
 ],
 "metadata": {
  "kernelspec": {
   "display_name": "Python 3",
   "language": "python",
   "name": "python3"
  },
  "language_info": {
   "codemirror_mode": {
    "name": "ipython",
    "version": 3
   },
   "file_extension": ".py",
   "mimetype": "text/x-python",
   "name": "python",
   "nbconvert_exporter": "python",
   "pygments_lexer": "ipython3",
   "version": "3.7.4"
  }
 },
 "nbformat": 4,
 "nbformat_minor": 2
}
