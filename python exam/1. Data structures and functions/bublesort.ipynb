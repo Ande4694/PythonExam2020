{
 "cells": [
  {
   "cell_type": "code",
   "execution_count": 1,
   "metadata": {},
   "outputs": [],
   "source": [
    "def shortBubbleSort(alist):              #tager en liste som parameter\n",
    "    \n",
    "    exchanges = True\n",
    "    passnum = len(alist)-1               #hvor mange iterationer, -1 grundet 0 index\n",
    "    while passnum > 0 and exchanges:     #så længe passnum er over 0, og exchange == True\n",
    "       exchanges = False                 #nu hvor vi er i loop sættes exchanges til False\n",
    "       for i in range(passnum):          #for loop til passnum\n",
    "           if alist[i]>alist[i+1]:       #hvis værdi på venstre side af sammenligningen er højere skal der skiftes : \n",
    "               exchanges = True             #exchage -> True\n",
    "               temp = alist[i]           #temp holder til værdi\n",
    "               alist[i] = alist[i+1]     #de to værdi bytter\n",
    "               alist[i+1] = temp\n",
    "       passnum = passnum-1               #breaker loop"
   ]
  },
  {
   "cell_type": "code",
   "execution_count": 2,
   "metadata": {},
   "outputs": [
    {
     "name": "stdout",
     "output_type": "stream",
     "text": [
      "[20, 30, 40, 50, 60, 70, 80, 90, 100, 110]\n"
     ]
    }
   ],
   "source": [
    "alist=[20,30,40,90,50,60,70,80,100,110]\n",
    "shortBubbleSort(alist)\n",
    "print(alist)"
   ]
  },
  {
   "cell_type": "code",
   "execution_count": null,
   "metadata": {},
   "outputs": [],
   "source": []
  }
 ],
 "metadata": {
  "kernelspec": {
   "display_name": "Python 3",
   "language": "python",
   "name": "python3"
  },
  "language_info": {
   "codemirror_mode": {
    "name": "ipython",
    "version": 3
   },
   "file_extension": ".py",
   "mimetype": "text/x-python",
   "name": "python",
   "nbconvert_exporter": "python",
   "pygments_lexer": "ipython3",
   "version": "3.7.4"
  }
 },
 "nbformat": 4,
 "nbformat_minor": 2
}
