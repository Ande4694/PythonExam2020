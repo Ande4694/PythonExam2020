{
 "cells": [
  {
   "cell_type": "code",
   "execution_count": 1,
   "metadata": {},
   "outputs": [],
   "source": [
    "class Node:\n",
    "    def __init__(self, data):\n",
    "        \n",
    "        \"\"\"\n",
    "        Data er værdi\n",
    "        prev er ref. til forrige node\n",
    "        next er ref til næste node\n",
    "        \"\"\"\n",
    "        self.data = data\n",
    "        self.next = None\n",
    "        self.prev = None"
   ]
  },
  {
   "cell_type": "code",
   "execution_count": 2,
   "metadata": {},
   "outputs": [
    {
     "name": "stdout",
     "output_type": "stream",
     "text": [
      "62\n",
      "8\n",
      "12\n",
      "13\n",
      "45\n"
     ]
    }
   ],
   "source": [
    "class double_linked_list:\n",
    "   \n",
    "    def __init__(self):\n",
    "        self.head = None\n",
    "        #sætter head, altså aller første værdi til none (tom liste)\n",
    "    \n",
    "    def push(self, newVal):           #med push ligges ny værdi forrest i listen\n",
    "        newNode = Node(newVal)        #ny node oprettes\n",
    "        newNode.next = self.head      # den \"gamle\" head sættes som \"next\"\n",
    "        if self.head is not None:     # hvis head existere:\n",
    "            self.head.prev = newNode  #linker den nu rykkede head med prev, så den kan link tilbage til ny head\n",
    "        self.head = newNode           # sætter nyeste til at være head\n",
    "        \n",
    "    def listprint(self, node):\n",
    "      while (node is not None):\n",
    "         print(node.data),            #hvis der er data: print givne nodes data\n",
    "         last = node                  #sætter last til at være givne node\n",
    "         node = node.next             \n",
    "    \n",
    "    def insert(self, prev_node, NewVal):\n",
    "      if prev_node is None:\n",
    "         return\n",
    "      NewNode = Node(NewVal)\n",
    "      NewNode.next = prev_node.next\n",
    "      prev_node.next = NewNode\n",
    "      NewNode.prev = prev_node\n",
    "      if NewNode.next is not None:\n",
    "         NewNode.next.prev = NewNode\n",
    "            \n",
    "    def append(self, NewVal):\n",
    "\n",
    "      NewNode = Node(NewVal)\n",
    "      NewNode.next = None\n",
    "      if self.head is None:\n",
    "         NewNode.prev = None\n",
    "         self.head = NewNode\n",
    "         return\n",
    "      last = self.head\n",
    "      while (last.next is not None):\n",
    "         last = last.next\n",
    "      last.next = NewNode\n",
    "      NewNode.prev = last\n",
    "      return\n",
    "\n",
    "dllist = double_linked_list()\n",
    "dllist.push(12)\n",
    "dllist.push(8)\n",
    "dllist.insert(dllist.head.next, 13)\n",
    "dllist.push(62)\n",
    "dllist.append(45)\n",
    "dllist.listprint(dllist.head)"
   ]
  },
  {
   "cell_type": "code",
   "execution_count": null,
   "metadata": {},
   "outputs": [],
   "source": []
  }
 ],
 "metadata": {
  "kernelspec": {
   "display_name": "Python 3",
   "language": "python",
   "name": "python3"
  },
  "language_info": {
   "codemirror_mode": {
    "name": "ipython",
    "version": 3
   },
   "file_extension": ".py",
   "mimetype": "text/x-python",
   "name": "python",
   "nbconvert_exporter": "python",
   "pygments_lexer": "ipython3",
   "version": "3.7.4"
  }
 },
 "nbformat": 4,
 "nbformat_minor": 2
}
