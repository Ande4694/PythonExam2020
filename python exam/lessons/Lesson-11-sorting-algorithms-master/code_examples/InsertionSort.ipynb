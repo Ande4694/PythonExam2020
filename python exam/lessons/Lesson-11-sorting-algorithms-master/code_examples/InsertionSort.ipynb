{
 "cells": [
  {
   "cell_type": "markdown",
   "metadata": {},
   "source": [
    "# Insertion sort\n",
    "https://algorithmist.com/wiki/Insertion_sort"
   ]
  },
  {
   "cell_type": "markdown",
   "metadata": {},
   "source": [
    "## Algorithm\n",
    "\n",
    "* Iterate through the list, starting from the second element:\n",
    "    * Note the element at this index.\n",
    "    * Walk back through the previous elements until you find a smaller element (or the beginning of the array), moving each element up by one.\n",
    "    * Insert the noted element at this point."
   ]
  },
  {
   "cell_type": "code",
   "execution_count": 17,
   "metadata": {},
   "outputs": [],
   "source": [
    "l = [103, 101, 110, 107]"
   ]
  },
  {
   "cell_type": "code",
   "execution_count": 18,
   "metadata": {},
   "outputs": [],
   "source": [
    "for index in range(1, len(l)):  # Iterate through the list, starting from the second element:\n",
    "    \n",
    "    # 101,110, 107\n",
    "    element = l[index]  # Note the element at this index  \n",
    "    # 0,1,2 \n",
    "    i = index-1                                        \n",
    "    \n",
    "    \n",
    "    while i>= 0 and element < l[i]:                   \n",
    "            l[i + 1] = l[i]         # [103,103,110,107], [101,103,110,110]\n",
    "            i -= 1                                           \n",
    "    \n",
    "    l[i + 1] = element  # [101,103,110,107] , [101,103,110,107], [101,103,107,110]"
   ]
  },
  {
   "cell_type": "code",
   "execution_count": 19,
   "metadata": {},
   "outputs": [
    {
     "data": {
      "text/plain": [
       "[101, 103, 107, 110]"
      ]
     },
     "execution_count": 19,
     "metadata": {},
     "output_type": "execute_result"
    }
   ],
   "source": [
    "l"
   ]
  },
  {
   "cell_type": "markdown",
   "metadata": {},
   "source": [
    "## Bubble sort, Insertion sort, Quick sort\n",
    "https://www.youtube.com/watch?v=WaNLJf8xzC4"
   ]
  },
  {
   "cell_type": "markdown",
   "metadata": {},
   "source": [
    "## 10 minutes exercise"
   ]
  },
  {
   "cell_type": "markdown",
   "metadata": {},
   "source": [
    "* Time bubble sort and Insertion Sort on a large list of numbers. "
   ]
  },
  {
   "cell_type": "code",
   "execution_count": null,
   "metadata": {},
   "outputs": [],
   "source": []
  }
 ],
 "metadata": {
  "kernelspec": {
   "display_name": "Python 3",
   "language": "python",
   "name": "python3"
  },
  "language_info": {
   "codemirror_mode": {
    "name": "ipython",
    "version": 3
   },
   "file_extension": ".py",
   "mimetype": "text/x-python",
   "name": "python",
   "nbconvert_exporter": "python",
   "pygments_lexer": "ipython3",
   "version": "3.7.3"
  }
 },
 "nbformat": 4,
 "nbformat_minor": 2
}
