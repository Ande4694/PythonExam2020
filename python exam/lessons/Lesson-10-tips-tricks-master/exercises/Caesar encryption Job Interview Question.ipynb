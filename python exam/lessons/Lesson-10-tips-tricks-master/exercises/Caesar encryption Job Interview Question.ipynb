{
 "cells": [
  {
   "cell_type": "markdown",
   "metadata": {},
   "source": [
    "\n",
    "# Caesar encryption Job Interview Question\n",
    "\n",
    "In Caesar encryption one moves all characters in a string N positions “forward” in the alphabet. \n",
    "So if the encryption N is 4,\n",
    "\n",
    "* 'a' becomes 'e' and\n",
    "* 'm' becomes 'q'. \n",
    "\n",
    "If the “forward move” exits the alphabet (like 'z' + 20) it wraps around.\n",
    "\n",
    "### Task:\n",
    "* Code a Caesar encryption algorithm.\n",
    "* Code a decryption algorithm.\n",
    "\n",
    "### Test:  \n",
    "Encrypt and afterwards decrypt\n",
    "\n",
    "1. 'thequickbrownfoxjumpsoverthelazydog', N=4. \n",
    "2. 'It all started 6 weeks ago. A truck, loaded with stripped gun parts got jack'd outside of Queens', N = 5\n",
    "3. 'Æbletærte er et lækkert alternative til rød grød med fløde', N=6"
   ]
  }
 ],
 "metadata": {
  "kernelspec": {
   "display_name": "Python 3",
   "language": "python",
   "name": "python3"
  },
  "language_info": {
   "codemirror_mode": {
    "name": "ipython",
    "version": 3
   },
   "file_extension": ".py",
   "mimetype": "text/x-python",
   "name": "python",
   "nbconvert_exporter": "python",
   "pygments_lexer": "ipython3",
   "version": "3.7.5"
  },
  "toc": {
   "base_numbering": 1,
   "nav_menu": {},
   "number_sections": true,
   "sideBar": true,
   "skip_h1_title": false,
   "title_cell": "Table of Contents",
   "title_sidebar": "Contents",
   "toc_cell": false,
   "toc_position": {},
   "toc_section_display": true,
   "toc_window_display": false
  }
 },
 "nbformat": 4,
 "nbformat_minor": 2
}
