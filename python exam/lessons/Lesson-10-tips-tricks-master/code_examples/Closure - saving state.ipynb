{
 "cells": [
  {
   "cell_type": "markdown",
   "metadata": {
    "toc": true
   },
   "source": [
    "<h1>Closure - Saving state<span class=\"tocSkip\"></span></h1>\n",
    "<div class=\"toc\"><ul class=\"toc-item\"><li><span><a href=\"#The-'Normal'-way-to-preserve-state-with-a-class\" data-toc-modified-id=\"The-'Normal'-way-to-preserve-state-with-a-class-1\"><span class=\"toc-item-num\">1&nbsp;&nbsp;</span>The 'Normal' way to preserve state with a class</a></span></li><li><span><a href=\"#Closure\" data-toc-modified-id=\"Closure-2\"><span class=\"toc-item-num\">2&nbsp;&nbsp;</span>Closure</a></span></li><li><span><a href=\"#Global,-Local-and-Nonlocal-variables\" data-toc-modified-id=\"Global,-Local-and-Nonlocal-variables-3\"><span class=\"toc-item-num\">3&nbsp;&nbsp;</span>Global, Local and Nonlocal variables</a></span><ul class=\"toc-item\"><li><span><a href=\"#Global-Variable\" data-toc-modified-id=\"Global-Variable-3.1\"><span class=\"toc-item-num\">3.1&nbsp;&nbsp;</span>Global Variable</a></span><ul class=\"toc-item\"><li><span><a href=\"#Changing-a-global-variable-inside-a-function-is-not-possible.\" data-toc-modified-id=\"Changing-a-global-variable-inside-a-function-is-not-possible.-3.1.1\"><span class=\"toc-item-num\">3.1.1&nbsp;&nbsp;</span>Changing a global variable inside a function is not possible.</a></span></li><li><span><a href=\"#Accessing-local-variable-outside-the-scope-is-also-not-possible.\" data-toc-modified-id=\"Accessing-local-variable-outside-the-scope-is-also-not-possible.-3.1.2\"><span class=\"toc-item-num\">3.1.2&nbsp;&nbsp;</span>Accessing local variable outside the scope is also not possible.</a></span></li><li><span><a href=\"#Using-Global-and-Local-variables-in-same-code\" data-toc-modified-id=\"Using-Global-and-Local-variables-in-same-code-3.1.3\"><span class=\"toc-item-num\">3.1.3&nbsp;&nbsp;</span>Using Global and Local variables in same code</a></span></li></ul></li><li><span><a href=\"#Nonlocal-Variables\" data-toc-modified-id=\"Nonlocal-Variables-3.2\"><span class=\"toc-item-num\">3.2&nbsp;&nbsp;</span>Nonlocal Variables</a></span></li></ul></li></ul></div>"
   ]
  },
  {
   "cell_type": "markdown",
   "metadata": {},
   "source": [
    "## The 'Normal' way to preserve state with a class"
   ]
  },
  {
   "cell_type": "code",
   "execution_count": 21,
   "metadata": {},
   "outputs": [],
   "source": [
    "class Counter:\n",
    "    def __init__(self):\n",
    "        self.__x = 0\n",
    "\n",
    "    def __call__(self):\n",
    "        self.__x += 1\n",
    "        return self.__x"
   ]
  },
  {
   "cell_type": "code",
   "execution_count": 22,
   "metadata": {},
   "outputs": [
    {
     "name": "stdout",
     "output_type": "stream",
     "text": [
      "1\n",
      "2\n",
      "3\n"
     ]
    }
   ],
   "source": [
    "x = Counter()\n",
    "print(x())\n",
    "print(x())\n",
    "print(x())"
   ]
  },
  {
   "cell_type": "markdown",
   "metadata": {},
   "source": [
    "## Closure\n",
    "This function uses the concept of closure to preserve state. Like we know from Clases."
   ]
  },
  {
   "cell_type": "code",
   "execution_count": 13,
   "metadata": {},
   "outputs": [],
   "source": [
    "def counter():\n",
    "    x = 0           # a local variable\n",
    "    def add():\n",
    "        nonlocal x  # not a global and not a local \n",
    "        x += 1\n",
    "        return x\n",
    "    return add"
   ]
  },
  {
   "cell_type": "code",
   "execution_count": 14,
   "metadata": {},
   "outputs": [
    {
     "name": "stdout",
     "output_type": "stream",
     "text": [
      "1\n",
      "2\n",
      "3\n"
     ]
    }
   ],
   "source": [
    "x = counter()\n",
    "print(x())\n",
    "print(x())\n",
    "print(x())"
   ]
  },
  {
   "cell_type": "markdown",
   "metadata": {},
   "source": [
    "## Global, Local and Nonlocal variables"
   ]
  },
  {
   "cell_type": "markdown",
   "metadata": {},
   "source": [
    "### Global Variable"
   ]
  },
  {
   "cell_type": "code",
   "execution_count": 5,
   "metadata": {},
   "outputs": [
    {
     "name": "stdout",
     "output_type": "stream",
     "text": [
      "x inside : global\n",
      "x outside: global\n"
     ]
    }
   ],
   "source": [
    "x = \"global\"\n",
    "\n",
    "def foo():\n",
    "    print(\"x inside :\", x)\n",
    "\n",
    "foo()\n",
    "print(\"x outside:\", x)"
   ]
  },
  {
   "cell_type": "markdown",
   "metadata": {},
   "source": [
    "#### Changing a global variable inside a function is not possible."
   ]
  },
  {
   "cell_type": "code",
   "execution_count": 17,
   "metadata": {},
   "outputs": [],
   "source": [
    "x = \"global\"\n",
    "\n",
    "def foo():\n",
    "    x = x * 2\n",
    "    print(x)\n",
    "# foo()"
   ]
  },
  {
   "cell_type": "markdown",
   "metadata": {},
   "source": [
    "#### Accessing local variable outside the scope is also not possible."
   ]
  },
  {
   "cell_type": "code",
   "execution_count": 18,
   "metadata": {},
   "outputs": [],
   "source": [
    "def foo():\n",
    "    y = \"local\"\n",
    "\n",
    "foo()\n",
    "#print(y)"
   ]
  },
  {
   "cell_type": "markdown",
   "metadata": {},
   "source": [
    "#### Using Global and Local variables in same code"
   ]
  },
  {
   "cell_type": "code",
   "execution_count": 16,
   "metadata": {},
   "outputs": [
    {
     "name": "stdout",
     "output_type": "stream",
     "text": [
      "globalglobal\n",
      "local\n"
     ]
    }
   ],
   "source": [
    "x = \"global\"\n",
    "\n",
    "def foo():\n",
    "    global x\n",
    "    y = \"local\"\n",
    "    x = x * 2\n",
    "    print(x)\n",
    "    print(y)\n",
    "    \n",
    "foo()"
   ]
  },
  {
   "cell_type": "markdown",
   "metadata": {},
   "source": [
    "### Nonlocal Variables\n",
    "Nonlocal variable are used in **nested function** whose local scope is not defined. This means, the variable can be neither in the local nor the global scope.  "
   ]
  },
  {
   "cell_type": "code",
   "execution_count": 19,
   "metadata": {},
   "outputs": [
    {
     "name": "stdout",
     "output_type": "stream",
     "text": [
      "inner: nonlocal\n",
      "outer: nonlocal\n"
     ]
    }
   ],
   "source": [
    "def outer():\n",
    "    x = \"local\"\n",
    "    \n",
    "    def inner():\n",
    "        nonlocal x\n",
    "        x = \"nonlocal\"\n",
    "        print(\"inner:\", x)\n",
    "    \n",
    "    inner()\n",
    "    print(\"outer:\", x)\n",
    "\n",
    "outer()"
   ]
  }
 ],
 "metadata": {
  "kernelspec": {
   "display_name": "Python 3",
   "language": "python",
   "name": "python3"
  },
  "language_info": {
   "codemirror_mode": {
    "name": "ipython",
    "version": 3
   },
   "file_extension": ".py",
   "mimetype": "text/x-python",
   "name": "python",
   "nbconvert_exporter": "python",
   "pygments_lexer": "ipython3",
   "version": "3.7.5"
  },
  "toc": {
   "base_numbering": 1,
   "nav_menu": {},
   "number_sections": true,
   "sideBar": true,
   "skip_h1_title": true,
   "title_cell": "Closure - Saving state",
   "title_sidebar": "Contents",
   "toc_cell": true,
   "toc_position": {},
   "toc_section_display": true,
   "toc_window_display": false
  }
 },
 "nbformat": 4,
 "nbformat_minor": 2
}
