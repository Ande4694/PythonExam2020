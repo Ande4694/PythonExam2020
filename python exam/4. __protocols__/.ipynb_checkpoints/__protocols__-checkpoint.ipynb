{
 "cells": [
  {
   "cell_type": "code",
   "execution_count": 30,
   "metadata": {},
   "outputs": [],
   "source": [
    "#Protokollen for __add__ bliver overskrevet og kan nu bruges til at lægge 2 geder intelligens sammen\n",
    "#__repr__ protokollen bliver overskrevet til at returnere en dictionary af string, af instansen af klassen\n",
    "class goat:\n",
    "    def __init__(self, name, braincells):\n",
    "        self.braincells = braincells\n",
    "        self.name = name\n",
    "    \n",
    "    def __repr__(self):\n",
    "        \"\"\"\n",
    "        representere hele objektet\n",
    "        \"\"\"\n",
    "        return str(self.__dict__)\n",
    "    \n",
    "    def __str__(self):\n",
    "        \"\"\"\n",
    "        bruges ofte til fortælle brugeren om objektet, på en forstålig måde (for brugere)\n",
    "        \"\"\"\n",
    "        a = 'this goats name is : {}'.format(self.name)\n",
    "        return a\n",
    "    \n",
    "    def __add__(self, other):\n",
    "        if self.braincells > other.braincells:\n",
    "            print('first goat is smartest')\n",
    "        else:\n",
    "            print('second goat is smartest')\n",
    "        return self.braincells+other.braincells\n",
    "        "
   ]
  },
  {
   "cell_type": "code",
   "execution_count": 31,
   "metadata": {},
   "outputs": [
    {
     "name": "stdout",
     "output_type": "stream",
     "text": [
      "Help on function __repr__ in module __main__:\n",
      "\n",
      "__repr__(self)\n",
      "    AT UDFYLDE\n",
      "\n"
     ]
    }
   ],
   "source": [
    "help(goat)"
   ]
  },
  {
   "cell_type": "code",
   "execution_count": 12,
   "metadata": {},
   "outputs": [],
   "source": [
    "testGoat = goat('hans', 10)"
   ]
  },
  {
   "cell_type": "code",
   "execution_count": 13,
   "metadata": {},
   "outputs": [
    {
     "name": "stdout",
     "output_type": "stream",
     "text": [
      "this goats name is : hans\n"
     ]
    }
   ],
   "source": [
    "testGoat"
   ]
  },
  {
   "cell_type": "code",
   "execution_count": 14,
   "metadata": {},
   "outputs": [],
   "source": [
    "andenGed = goat('hubert', 20)"
   ]
  },
  {
   "cell_type": "code",
   "execution_count": 15,
   "metadata": {},
   "outputs": [
    {
     "data": {
      "text/plain": [
       "{'braincells': 20, 'name': 'hubert'}"
      ]
     },
     "execution_count": 15,
     "metadata": {},
     "output_type": "execute_result"
    }
   ],
   "source": [
    "andenGed"
   ]
  },
  {
   "cell_type": "code",
   "execution_count": 16,
   "metadata": {},
   "outputs": [
    {
     "name": "stdout",
     "output_type": "stream",
     "text": [
      "first goat is smartest\n"
     ]
    },
    {
     "data": {
      "text/plain": [
       "30"
      ]
     },
     "execution_count": 16,
     "metadata": {},
     "output_type": "execute_result"
    }
   ],
   "source": [
    "andenGed + testGoat"
   ]
  },
  {
   "cell_type": "code",
   "execution_count": null,
   "metadata": {},
   "outputs": [],
   "source": [
    "testGoat+andenGed"
   ]
  },
  {
   "cell_type": "code",
   "execution_count": 20,
   "metadata": {},
   "outputs": [
    {
     "name": "stdout",
     "output_type": "stream",
     "text": [
      "You monster, you deleted a book!\n"
     ]
    }
   ],
   "source": [
    "#overskrevet str til at retunere titel og forfatter\n",
    "#overskrevet repr til at caster self.dict til string\n",
    "#len overskrevet til at returnere antal af sider\n",
    "class Book():\n",
    "    \n",
    "    def __init__(self, title, forfatter, sider):\n",
    "        self.title = title\n",
    "        self.forfatter = forfatter\n",
    "        self.sider = sider\n",
    "        \n",
    "    def __str__(self):\n",
    "        return f'{self.title} by {self.forfatter}'\n",
    "    \n",
    "    def __repr__(self):\n",
    "        return str(self.__dict__)\n",
    "    \n",
    "    def __len__(self):\n",
    "        return self.sider\n",
    "    \n",
    "    def __del__(self):\n",
    "        print('You monster, you deleted a book!')\n",
    "        \n",
    "b = Book('Bog om alt', 'Anders', 250)"
   ]
  },
  {
   "cell_type": "code",
   "execution_count": 21,
   "metadata": {},
   "outputs": [
    {
     "name": "stdout",
     "output_type": "stream",
     "text": [
      "her bruges __repr__:\n"
     ]
    },
    {
     "data": {
      "text/plain": [
       "{'title': 'Bog om alt', 'forfatter': 'Anders', 'sider': 250}"
      ]
     },
     "execution_count": 21,
     "metadata": {},
     "output_type": "execute_result"
    }
   ],
   "source": [
    "print('her bruges __repr__:')\n",
    "b"
   ]
  },
  {
   "cell_type": "code",
   "execution_count": 22,
   "metadata": {},
   "outputs": [
    {
     "name": "stdout",
     "output_type": "stream",
     "text": [
      "her bruges __str__:\n",
      "Bog om alt by Anders\n"
     ]
    }
   ],
   "source": [
    "print('her bruges __str__:')\n",
    "print(b)"
   ]
  },
  {
   "cell_type": "code",
   "execution_count": 23,
   "metadata": {},
   "outputs": [
    {
     "name": "stdout",
     "output_type": "stream",
     "text": [
      "her bruges __len__:\n"
     ]
    },
    {
     "data": {
      "text/plain": [
       "250"
      ]
     },
     "execution_count": 23,
     "metadata": {},
     "output_type": "execute_result"
    }
   ],
   "source": [
    "print('her bruges __len__:')\n",
    "len(b)"
   ]
  },
  {
   "cell_type": "code",
   "execution_count": 24,
   "metadata": {},
   "outputs": [
    {
     "name": "stdout",
     "output_type": "stream",
     "text": [
      "You monster, you deleted a book!\n"
     ]
    }
   ],
   "source": [
    "book = Book('hokus pokus', 'En gammel tosse', 215)\n",
    "del book"
   ]
  },
  {
   "cell_type": "code",
   "execution_count": 25,
   "metadata": {},
   "outputs": [
    {
     "name": "stdout",
     "output_type": "stream",
     "text": [
      "1\n",
      "2\n",
      "3\n"
     ]
    },
    {
     "ename": "StopIteration",
     "evalue": "",
     "output_type": "error",
     "traceback": [
      "\u001b[1;31m---------------------------------------------------------------------------\u001b[0m",
      "\u001b[1;31mStopIteration\u001b[0m                             Traceback (most recent call last)",
      "\u001b[1;32m<ipython-input-25-360b0ccd98f3>\u001b[0m in \u001b[0;36m<module>\u001b[1;34m\u001b[0m\n\u001b[0;32m      6\u001b[0m \u001b[0mprint\u001b[0m\u001b[1;33m(\u001b[0m\u001b[0mnext\u001b[0m\u001b[1;33m(\u001b[0m\u001b[0miter_nums\u001b[0m\u001b[1;33m)\u001b[0m\u001b[1;33m)\u001b[0m\u001b[1;33m\u001b[0m\u001b[1;33m\u001b[0m\u001b[0m\n\u001b[0;32m      7\u001b[0m \u001b[0mprint\u001b[0m\u001b[1;33m(\u001b[0m\u001b[0mnext\u001b[0m\u001b[1;33m(\u001b[0m\u001b[0miter_nums\u001b[0m\u001b[1;33m)\u001b[0m\u001b[1;33m)\u001b[0m\u001b[1;33m\u001b[0m\u001b[1;33m\u001b[0m\u001b[0m\n\u001b[1;32m----> 8\u001b[1;33m \u001b[0mprint\u001b[0m\u001b[1;33m(\u001b[0m\u001b[0mnext\u001b[0m\u001b[1;33m(\u001b[0m\u001b[0miter_nums\u001b[0m\u001b[1;33m)\u001b[0m\u001b[1;33m)\u001b[0m\u001b[1;33m\u001b[0m\u001b[1;33m\u001b[0m\u001b[0m\n\u001b[0m",
      "\u001b[1;31mStopIteration\u001b[0m: "
     ]
    }
   ],
   "source": [
    "nums = [1,2,3]\n",
    "\n",
    "iter_nums = iter(nums)\n",
    "\n",
    "print(next(iter_nums))\n",
    "print(next(iter_nums))\n",
    "print(next(iter_nums))\n",
    "print(next(iter_nums))"
   ]
  },
  {
   "cell_type": "code",
   "execution_count": 26,
   "metadata": {
    "scrolled": true
   },
   "outputs": [
    {
     "name": "stdout",
     "output_type": "stream",
     "text": [
      "0\n",
      "1\n",
      "2\n",
      "3\n",
      "4\n",
      "5\n",
      "6\n",
      "7\n",
      "8\n"
     ]
    }
   ],
   "source": [
    "numbs = [x for x in range(0,9)]\n",
    "\n",
    "\n",
    "anden_iter = iter(numbs)\n",
    "\n",
    "for n in anden_iter:\n",
    "    print(n)"
   ]
  },
  {
   "cell_type": "code",
   "execution_count": 27,
   "metadata": {},
   "outputs": [],
   "source": [
    "class test():\n",
    "\n",
    "    def __init__(self):\n",
    "        print('test class was inited')\n",
    "\n",
    "    #Kræves for at være en contextmanager\n",
    "    def __enter__(self):\n",
    "        print('test class has run __enter__')\n",
    "\n",
    "    def __exit__(self, type, value, traceback):\n",
    "        print('test class har run __exit__')"
   ]
  },
  {
   "cell_type": "code",
   "execution_count": 28,
   "metadata": {
    "scrolled": true
   },
   "outputs": [
    {
     "name": "stdout",
     "output_type": "stream",
     "text": [
      "test class was inited\n",
      "test class has run __enter__\n",
      "operation done with test() as a:  None\n",
      "test class har run __exit__\n"
     ]
    }
   ],
   "source": [
    "#når with  bruges bliver både enter og exit kaldt\n",
    "with test() as a:\n",
    "    print('operation done with test() as a: ',a)"
   ]
  },
  {
   "cell_type": "code",
   "execution_count": 29,
   "metadata": {},
   "outputs": [
    {
     "name": "stdout",
     "output_type": "stream",
     "text": [
      "test class was inited\n",
      "<__main__.test object at 0x0000014F5F8D4F48>\n"
     ]
    }
   ],
   "source": [
    "#når with ikke bliver brugt bliver enter og exit ikke kaldt\n",
    "b = test()\n",
    "\n",
    "print(b)"
   ]
  },
  {
   "cell_type": "markdown",
   "metadata": {},
   "source": [
    "Vi kan se at når vi bruger \"with\" bliver både __enter__ & __exit__ brugt,\n",
    "men når vi bare instanciere et object der har implementeret disse protokoller bliver det ikke brugt"
   ]
  },
  {
   "cell_type": "code",
   "execution_count": null,
   "metadata": {},
   "outputs": [],
   "source": []
  }
 ],
 "metadata": {
  "kernelspec": {
   "display_name": "Python 3",
   "language": "python",
   "name": "python3"
  },
  "language_info": {
   "codemirror_mode": {
    "name": "ipython",
    "version": 3
   },
   "file_extension": ".py",
   "mimetype": "text/x-python",
   "name": "python",
   "nbconvert_exporter": "python",
   "pygments_lexer": "ipython3",
   "version": "3.7.4"
  }
 },
 "nbformat": 4,
 "nbformat_minor": 4
}
