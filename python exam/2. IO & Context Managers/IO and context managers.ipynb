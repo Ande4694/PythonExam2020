{
 "cells": [
  {
   "cell_type": "code",
   "execution_count": 1,
   "metadata": {},
   "outputs": [],
   "source": [
    "#context manager \n",
    "class File(object):\n",
    "    \n",
    "    def __init__(self, file_name, method):\n",
    "        self.file_obj = open(file_name, method)\n",
    "        \n",
    "    def __enter__(self):\n",
    "        return self.file_obj\n",
    "    \n",
    "    def __exit__(self, type, value, traceback):\n",
    "        self.file_obj.close()\n",
    "        return True\n",
    "\n",
    "with File('demo.txt', 'w') as opened_file:\n",
    "    opened_file.undefined_function()   #her bliver enter kaldt, når enter er \"færdig\" bliver __exit__ kaldt"
   ]
  },
  {
   "cell_type": "code",
   "execution_count": 2,
   "metadata": {},
   "outputs": [],
   "source": [
    "class test():\n",
    "\n",
    "    def __init__(self):\n",
    "        print('test class was inited')\n",
    "\n",
    "    def __enter__(self):\n",
    "        print('test class has run __enter__')\n",
    "\n",
    "    def __exit__(self, type, value, traceback):\n",
    "        print('test class har run __exit__')"
   ]
  },
  {
   "cell_type": "code",
   "execution_count": 3,
   "metadata": {},
   "outputs": [
    {
     "name": "stdout",
     "output_type": "stream",
     "text": [
      "test class was inited\n",
      "test class has run __enter__\n",
      "operation done with test() as a:  None\n",
      "test class har run __exit__\n"
     ]
    }
   ],
   "source": [
    "#når with  bruges bliver både enter og exit kaldt\n",
    "with test() as a:\n",
    "    print('operation done with test() as a: ',a)"
   ]
  },
  {
   "cell_type": "code",
   "execution_count": 4,
   "metadata": {},
   "outputs": [
    {
     "name": "stdout",
     "output_type": "stream",
     "text": [
      "test class was inited\n",
      "<__main__.test object at 0x000002041B673B08>\n"
     ]
    }
   ],
   "source": [
    "#når with ikke bliver brugt bliver enter og exit ikke kaldt\n",
    "b = test()\n",
    "\n",
    "print(b)"
   ]
  },
  {
   "cell_type": "code",
   "execution_count": 5,
   "metadata": {},
   "outputs": [],
   "source": [
    "with File('demo.txt', 'w') as openFile:\n",
    "    openFile.write(\"Der skrives til filen\")\n"
   ]
  },
  {
   "cell_type": "code",
   "execution_count": 6,
   "metadata": {},
   "outputs": [
    {
     "name": "stdout",
     "output_type": "stream",
     "text": [
      "Der skrives til filen\n"
     ]
    }
   ],
   "source": [
    "with File('demo.txt', 'r') as openFile:\n",
    "    print(openFile.read())"
   ]
  },
  {
   "cell_type": "code",
   "execution_count": 7,
   "metadata": {},
   "outputs": [],
   "source": [
    "with File('demo.txt', 'a+') as openFile:\n",
    "    openFile.write(\"\\nDer appendes til filen\")\n",
    "    "
   ]
  },
  {
   "cell_type": "code",
   "execution_count": 8,
   "metadata": {},
   "outputs": [
    {
     "name": "stdout",
     "output_type": "stream",
     "text": [
      "Der skrives til filen\n",
      "Der appendes til filen\n"
     ]
    }
   ],
   "source": [
    "with File('demo.txt', 'r') as openFile:\n",
    "    print(openFile.read())"
   ]
  },
  {
   "cell_type": "code",
   "execution_count": 9,
   "metadata": {},
   "outputs": [],
   "source": [
    "import csv\n",
    "with File('bohr.csv', 'w') as f:\n",
    "            csv_w = csv.writer(f, delimiter=',', quoting=csv.QUOTE_MINIMAL)\n",
    "            csv_w.writerow(['Spam'] * 5 + ['Baked Beans'])\n",
    "            csv_w.writerow(['Spam', 'Lovely Spam', 'Wonderful Spam'])"
   ]
  },
  {
   "cell_type": "code",
   "execution_count": 10,
   "metadata": {},
   "outputs": [
    {
     "name": "stdout",
     "output_type": "stream",
     "text": [
      "['Spam', 'Spam', 'Spam', 'Spam', 'Spam', 'Baked Beans']\n",
      "[]\n",
      "['Spam', 'Lovely Spam', 'Wonderful Spam']\n",
      "[]\n"
     ]
    }
   ],
   "source": [
    "with File('bohr.csv', 'r') as f:\n",
    "            csv_r = csv.reader(f, delimiter=',')\n",
    "            for item in csv_r:\n",
    "                print(item)     "
   ]
  },
  {
   "cell_type": "code",
   "execution_count": 79,
   "metadata": {},
   "outputs": [],
   "source": [
    "import json\n",
    "\n",
    "data = {}\n",
    "data['people'] = [{\n",
    "    'name': 'Scott',\n",
    "    'website': 'stackabuse.com',\n",
    "    'from': 'Nebraska'\n",
    "}, \n",
    "{\n",
    "    'name': 'Larry',\n",
    "    'website': 'google.com',\n",
    "    'from': 'Michigan'\n",
    "},\n",
    "{\n",
    "    'name': 'Tim',\n",
    "    'website': 'apple.com',\n",
    "    'from': 'Alabama'\n",
    "}]\n",
    "\n",
    "\n",
    "with File('bohr.json', 'w') as f:\n",
    "        json.dump(data, f)    "
   ]
  },
  {
   "cell_type": "code",
   "execution_count": 80,
   "metadata": {},
   "outputs": [
    {
     "name": "stdout",
     "output_type": "stream",
     "text": [
      "{'people': [{'name': 'Scott', 'website': 'stackabuse.com', 'from': 'Nebraska'}, {'name': 'Larry', 'website': 'google.com', 'from': 'Michigan'}, {'name': 'Tim', 'website': 'apple.com', 'from': 'Alabama'}]}\n"
     ]
    }
   ],
   "source": [
    "with File('bohr.json', 'r') as f:\n",
    "            txt = f.read()\n",
    "            js = json.loads(txt) \n",
    "            print(js)"
   ]
  },
  {
   "cell_type": "code",
   "execution_count": 95,
   "metadata": {},
   "outputs": [],
   "source": [
    "from sqlite3 import connect\n",
    "# create db \n",
    "with connect('bohr.db') as conn:\n",
    "    cur = conn.cursor()\n",
    "    cur.execute('DROP TABLE IF EXISTS quotes')\n",
    "    cur.execute('CREATE TABLE quotes(id int PRIMARY KEY, quote text, author text)')\n",
    "    cur.execute('INSERT INTO quotes(id, quote, author) VALUES (1, \"An expert is a person who has made all the mistakes that can be made in a very narrow field.\", \"bohr\")')\n",
    "    cur.execute('INSERT INTO quotes(id, quote, author) VALUES (2, \"Prediction is very difficult, especially about the future.\", \"bohr\")')\n",
    "    cur.execute('INSERT INTO quotes(id, quote, author) VALUES(3, \"Those who are not shocked when they first come across quantum theory cannot possibly have understood it.\", \"bohr\")')"
   ]
  },
  {
   "cell_type": "code",
   "execution_count": 97,
   "metadata": {},
   "outputs": [
    {
     "name": "stdout",
     "output_type": "stream",
     "text": [
      "(1, 'An expert is a person who has made all the mistakes that can be made in a very narrow field.', 'bohr')\n",
      "(2, 'Prediction is very difficult, especially about the future.', 'bohr')\n",
      "(3, 'Those who are not shocked when they first come across quantum theory cannot possibly have understood it.', 'bohr')\n"
     ]
    }
   ],
   "source": [
    "with connect('bohr.db') as conn:\n",
    "    cur = conn.cursor()\n",
    "    for i in cur.execute('SELECT * FROM quotes'):\n",
    "        print(i)"
   ]
  },
  {
   "cell_type": "code",
   "execution_count": 11,
   "metadata": {},
   "outputs": [],
   "source": [
    "import pickle as p #python version a serializable\n",
    "\n",
    "l = [i for i in range(10)] #list comprehension af tal fra 0-9\n",
    "pick = p.dumps(l)\n",
    "\n",
    "    \n",
    "with File('testfiel.txt', 'bw') as f: #byte write\n",
    "    f.write(pick)"
   ]
  },
  {
   "cell_type": "code",
   "execution_count": 12,
   "metadata": {},
   "outputs": [
    {
     "name": "stdout",
     "output_type": "stream",
     "text": [
      "b'\\x80\\x03]q\\x00(K\\x00K\\x01K\\x02K\\x03K\\x04K\\x05K\\x06K\\x07K\\x08K\\te.'\n",
      "[0, 1, 2, 3, 4, 5, 6, 7, 8, 9]\n"
     ]
    }
   ],
   "source": [
    "with File('testfiel.txt', 'br') as f: #byte read\n",
    "    out = f.read()\n",
    "    print(out)                      #læser som byte ->   b'\\x80\\x03]q\\x00(K\\x00K\\x01K\\x02K\\x03K\\x04K\\x05K\\x06K\\x07K\\x08K\\te.'\n",
    "    print(p.loads(out))             #læser som 'loaded' byte"
   ]
  },
  {
   "cell_type": "code",
   "execution_count": null,
   "metadata": {},
   "outputs": [],
   "source": []
  }
 ],
 "metadata": {
  "kernelspec": {
   "display_name": "Python 3",
   "language": "python",
   "name": "python3"
  },
  "language_info": {
   "codemirror_mode": {
    "name": "ipython",
    "version": 3
   },
   "file_extension": ".py",
   "mimetype": "text/x-python",
   "name": "python",
   "nbconvert_exporter": "python",
   "pygments_lexer": "ipython3",
   "version": "3.7.4"
  }
 },
 "nbformat": 4,
 "nbformat_minor": 4
}
