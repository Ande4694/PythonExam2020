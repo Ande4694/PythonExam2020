{
 "cells": [
  {
   "cell_type": "markdown",
   "metadata": {},
   "source": [
    "* args er arguments, alle arguments bliver lavet om til tuples, som man kan bruge tuple unpacking på\n",
    "\"args\" kan være hvadsom helst, det vigitge er \"*\"\n",
    "\n",
    "** kwargs er key word arguements\n",
    "\n",
    "rækkefølgen er vigtig i den definerede metode"
   ]
  },
  {
   "cell_type": "code",
   "execution_count": 4,
   "metadata": {},
   "outputs": [],
   "source": [
    "def hvert_tredje_bogstav(*args):\n",
    "    for a,b,c in args:\n",
    "        print(c)"
   ]
  },
  {
   "cell_type": "code",
   "execution_count": 5,
   "metadata": {},
   "outputs": [
    {
     "name": "stdout",
     "output_type": "stream",
     "text": [
      "j\n",
      "n\n",
      "d\n"
     ]
    }
   ],
   "source": [
    "hvert_tredje_bogstav('hej','din','ged')"
   ]
  },
  {
   "cell_type": "code",
   "execution_count": 9,
   "metadata": {},
   "outputs": [
    {
     "data": {
      "text/plain": [
       "187.60000000000002"
      ]
     },
     "execution_count": 9,
     "metadata": {},
     "output_type": "execute_result"
    }
   ],
   "source": [
    "def fem_procent(*args):\n",
    "    return sum(args) * 0.05\n",
    "\n",
    "fem_procent(100,100,2321,1231)"
   ]
  },
  {
   "cell_type": "code",
   "execution_count": 11,
   "metadata": {},
   "outputs": [
    {
     "name": "stdout",
     "output_type": "stream",
     "text": [
      "hej\n",
      "din\n",
      "ged\n"
     ]
    }
   ],
   "source": [
    "def print_nice(*args):\n",
    "    for item in args:\n",
    "        print(item)\n",
    "        \n",
    "print_nice('hej','din','ged')"
   ]
  },
  {
   "cell_type": "code",
   "execution_count": 13,
   "metadata": {},
   "outputs": [
    {
     "name": "stdout",
     "output_type": "stream",
     "text": [
      "der var en ged\n"
     ]
    }
   ],
   "source": [
    "def test_om_ged(*args):\n",
    "    if 'ged' in args:\n",
    "        print('der var en ged')\n",
    "    else:\n",
    "        print('der var ikke en ged')\n",
    "        \n",
    "test_om_ged('hej', 'din','ged')"
   ]
  },
  {
   "cell_type": "code",
   "execution_count": 22,
   "metadata": {},
   "outputs": [],
   "source": [
    "def hvert_tredje_ord(*args):\n",
    "    num = 0\n",
    "    for items in args:\n",
    "        num += 1\n",
    "        if num%3 == 0:\n",
    "            print(items)"
   ]
  },
  {
   "cell_type": "code",
   "execution_count": 23,
   "metadata": {},
   "outputs": [
    {
     "name": "stdout",
     "output_type": "stream",
     "text": [
      "ged\n"
     ]
    }
   ],
   "source": [
    "hvert_tredje_ord('hej','din','ged')"
   ]
  },
  {
   "cell_type": "code",
   "execution_count": null,
   "metadata": {},
   "outputs": [],
   "source": []
  }
 ],
 "metadata": {
  "kernelspec": {
   "display_name": "Python 3",
   "language": "python",
   "name": "python3"
  },
  "language_info": {
   "codemirror_mode": {
    "name": "ipython",
    "version": 3
   },
   "file_extension": ".py",
   "mimetype": "text/x-python",
   "name": "python",
   "nbconvert_exporter": "python",
   "pygments_lexer": "ipython3",
   "version": "3.7.4"
  }
 },
 "nbformat": 4,
 "nbformat_minor": 2
}
