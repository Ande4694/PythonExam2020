{
 "cells": [
  {
   "cell_type": "code",
   "execution_count": 4,
   "metadata": {},
   "outputs": [
    {
     "name": "stdout",
     "output_type": "stream",
     "text": [
      "{'a': 30, 'b': 30, 'c': 42.42640687119285}\n",
      "42.42640687119285\n"
     ]
    }
   ],
   "source": [
    "import math\n",
    "\n",
    "class Trekant:\n",
    "    def __init__(self):\n",
    "        self.a = 30\n",
    "        self.b = 30\n",
    "        self.c = math.sqrt(self.a**2 + self.b**2)\n",
    "        \n",
    "    def __repr__(self):\n",
    "        return str(self.__dict__)\n",
    "\n",
    "t = Trekant()\n",
    "print(t)\n",
    "t.a = 40\n",
    "t.b = 50"
   ]
  },
  {
   "cell_type": "code",
   "execution_count": 33,
   "metadata": {},
   "outputs": [],
   "source": [
    "class Firkant:\n",
    "    def __init__(self):\n",
    "        self.__a = 'A'\n",
    "        self.__b = 'B'\n",
    "        self.__c = 'C'\n",
    "        self.__d = 'D'\n",
    "        \n",
    "    def __repr__(self):\n",
    "        return str(self.__dict__)\n",
    "    \n",
    "    @property\n",
    "    def a(self):\n",
    "        return self.__a\n",
    "    @property\n",
    "    def b(self):\n",
    "        return self.__b\n",
    "    @property\n",
    "    def c(self):\n",
    "        return self.__c\n",
    "    @property\n",
    "    def d(self):\n",
    "        return self.__d\n",
    "    \n",
    "    @a.setter\n",
    "    def a(self, x):\n",
    "        if isinstance(x, int):\n",
    "            self.__a = x\n",
    "        else:\n",
    "            print('fy fy - skamme skamme')\n",
    "    "
   ]
  },
  {
   "cell_type": "code",
   "execution_count": 36,
   "metadata": {},
   "outputs": [
    {
     "name": "stdout",
     "output_type": "stream",
     "text": [
      "{'_Firkant__a': 'A', '_Firkant__b': 'B', '_Firkant__c': 'C', '_Firkant__d': 'D'}\n",
      "A\n",
      "fy fy - skamme skamme\n",
      "A\n",
      "1\n"
     ]
    }
   ],
   "source": [
    "fir = Firkant()\n",
    "print(fir)\n",
    "print(fir.a)\n",
    "fir.a = 'hej'\n",
    "print(fir.a)\n",
    "fir.a = 1\n",
    "print(fir.a)"
   ]
  },
  {
   "cell_type": "code",
   "execution_count": null,
   "metadata": {},
   "outputs": [],
   "source": []
  }
 ],
 "metadata": {
  "kernelspec": {
   "display_name": "Python 3",
   "language": "python",
   "name": "python3"
  },
  "language_info": {
   "codemirror_mode": {
    "name": "ipython",
    "version": 3
   },
   "file_extension": ".py",
   "mimetype": "text/x-python",
   "name": "python",
   "nbconvert_exporter": "python",
   "pygments_lexer": "ipython3",
   "version": "3.7.4"
  }
 },
 "nbformat": 4,
 "nbformat_minor": 2
}
