{
 "cells": [
  {
   "cell_type": "code",
   "execution_count": 1,
   "metadata": {},
   "outputs": [
    {
     "name": "stdout",
     "output_type": "stream",
     "text": [
      "Her printer vi en simpel liste\n",
      "['foo', 'bar', 'baz', 'qux']\n"
     ]
    }
   ],
   "source": [
    "#Simple list\n",
    "a = ['foo', 'bar', 'baz', 'qux']\n",
    "print('Her printer vi en simpel liste')\n",
    "print(a)"
   ]
  },
  {
   "cell_type": "code",
   "execution_count": 3,
   "metadata": {},
   "outputs": [
    {
     "name": "stdout",
     "output_type": "stream",
     "text": [
      "Lists er ordered vi sammenligner 2 lister\n",
      "False\n",
      "liste b er ændret til at være ens med liste a, burde nu returnere true\n",
      "True\n"
     ]
    }
   ],
   "source": [
    "#Lists are ordered\n",
    "print('Lists er ordered vi sammenligner 2 lister')\n",
    "b = ['baz', 'qux', 'bar', 'foo']\n",
    "\n",
    "#burde returnere false\n",
    "print(a == b)\n",
    "\n",
    "#burde returnere true\n",
    "b = ['foo', 'bar', 'baz', 'qux']\n",
    "print('liste b er ændret til at være ens med liste a, burde nu returnere true')\n",
    "print(a == b)"
   ]
  },
  {
   "cell_type": "code",
   "execution_count": 4,
   "metadata": {},
   "outputs": [
    {
     "name": "stdout",
     "output_type": "stream",
     "text": [
      "Tilgå en liste via index nummer\n",
      "bar\n",
      "bar\n"
     ]
    }
   ],
   "source": [
    "#Lists kan tilgås via index\n",
    "print('Tilgå en liste via index nummer')\n",
    "print(a[1])\n",
    "print(a[-3])"
   ]
  },
  {
   "cell_type": "code",
   "execution_count": 7,
   "metadata": {},
   "outputs": [
    {
     "name": "stdout",
     "output_type": "stream",
     "text": [
      "Her slicer vi en liste\n",
      "[0, 'et', 'to', 3, 'fire', 'fem', 6]\n",
      "['et', 'to', 3]\n",
      "['to', 3, 'fire']\n",
      "[6, 'fem', 'fire', 3, 'to', 'et', 0]\n",
      "[0, 'to', 'fire', 6]\n"
     ]
    }
   ],
   "source": [
    "#Man kan slice en list\n",
    "a = [0,'et', 'to', 3, 'fire', 'fem', 6]\n",
    "print('Her slicer vi en liste')\n",
    "print(a)\n",
    "print(a[1:4])\n",
    "print(a[-5:-2])\n",
    "#Steps\n",
    "print(a[::-1])\n",
    "print(a[::2])"
   ]
  },
  {
   "cell_type": "code",
   "execution_count": 8,
   "metadata": {},
   "outputs": [
    {
     "name": "stdout",
     "output_type": "stream",
     "text": [
      "Nested liste\n",
      "['a', ['bb', ['ccc', 'ddd'], 'ee', 'ff'], 'g', ['hh', 'ii'], 'j']\n"
     ]
    }
   ],
   "source": [
    "#Lister kan være nested.\n",
    "print('Nested liste')\n",
    "x = ['a', ['bb', ['ccc', 'ddd'], 'ee', 'ff'], 'g', ['hh', 'ii'], 'j']\n",
    "print(x)"
   ]
  },
  {
   "cell_type": "code",
   "execution_count": 8,
   "metadata": {},
   "outputs": [
    {
     "name": "stdout",
     "output_type": "stream",
     "text": [
      "printer index 0, 1 og 2\n",
      "a\n",
      "['bb', ['ccc', 'ddd'], 'ee', 'ff']\n",
      "g\n"
     ]
    }
   ],
   "source": [
    "print('printer index 0, 1 og 2')\n",
    "print(x[0])\n",
    "print(x[1])\n",
    "print(x[2])\n"
   ]
  },
  {
   "cell_type": "code",
   "execution_count": 9,
   "metadata": {},
   "outputs": [
    {
     "name": "stdout",
     "output_type": "stream",
     "text": [
      "printer subliste x[1][0] og x[1][1]\n",
      "bb\n",
      "['ccc', 'ddd']\n"
     ]
    }
   ],
   "source": [
    "print('printer subliste x[1][0] og x[1][1]')\n",
    "print(x[1][0])\n",
    "print(x[1][1])\n"
   ]
  },
  {
   "cell_type": "code",
   "execution_count": 10,
   "metadata": {},
   "outputs": [
    {
     "name": "stdout",
     "output_type": "stream",
     "text": [
      "printer subliste x[1][1][0]\n",
      "ccc\n"
     ]
    }
   ],
   "source": [
    "print('printer subliste x[1][1][0]')\n",
    "print(x[1][1][0])"
   ]
  },
  {
   "cell_type": "code",
   "execution_count": 9,
   "metadata": {},
   "outputs": [
    {
     "name": "stdout",
     "output_type": "stream",
     "text": [
      "[0, 'et', 'to', 3, 'fire', 'fem', 6]\n",
      "[0, 'Telescope', 'to', 3, 'fire', 'fem', 6]\n"
     ]
    }
   ],
   "source": [
    "#Lave ændringinger i en liste\n",
    "#ændring i et enkelt index\n",
    "print(a)\n",
    "a[1] = 'Telescope'\n",
    "print(a)"
   ]
  },
  {
   "cell_type": "code",
   "execution_count": 11,
   "metadata": {
    "scrolled": false
   },
   "outputs": [
    {
     "name": "stdout",
     "output_type": "stream",
     "text": [
      "[0, 'Telescope', 'to', 3, 'fire', 'fem', 6, 's', 'y', 'v', 'syv', 'syv']\n"
     ]
    }
   ],
   "source": [
    "#Extend\n",
    "a.extend(['syv'])\n",
    "print(a)"
   ]
  },
  {
   "cell_type": "code",
   "execution_count": 12,
   "metadata": {},
   "outputs": [
    {
     "name": "stdout",
     "output_type": "stream",
     "text": [
      "[1, 3, 5, 7, 8, 2, 4]\n",
      "[1, 2, 3, 4, 5, 7, 8]\n",
      "[8, 7, 5, 4, 3, 2, 1]\n"
     ]
    }
   ],
   "source": [
    "#sort en liste\n",
    "a = [1, 3, 5, 7, 8, 2, 4]\n",
    "print(a)\n",
    "a.sort()\n",
    "print(a)\n",
    "a.sort(reverse=True)\n",
    "print(a)"
   ]
  },
  {
   "cell_type": "code",
   "execution_count": 14,
   "metadata": {},
   "outputs": [
    {
     "name": "stdout",
     "output_type": "stream",
     "text": [
      "chemistry\n"
     ]
    }
   ],
   "source": [
    "#Tuple\n",
    "#opretter tuples\n",
    "tup1 = ('physics', 'chemistry', 1997, 2000);\n",
    "tup2 = (1, 2, 3, 4, 5 );\n",
    "\n",
    "#tilgå værdier\n",
    "print(tup1[1])"
   ]
  },
  {
   "cell_type": "code",
   "execution_count": 21,
   "metadata": {},
   "outputs": [
    {
     "name": "stdout",
     "output_type": "stream",
     "text": [
      "('chemistry', 1997)\n"
     ]
    }
   ],
   "source": [
    "#Sliced\n",
    "print(tup1[1:3])"
   ]
  },
  {
   "cell_type": "code",
   "execution_count": 15,
   "metadata": {},
   "outputs": [
    {
     "name": "stdout",
     "output_type": "stream",
     "text": [
      "('physics', 'chemistry', 1997, 2000, 1, 2, 3, 4, 5)\n"
     ]
    }
   ],
   "source": [
    "#tuples er immutable og kan derfor ikke ændres, men man kan lave en ny tuple\n",
    "tup3 = tup1+tup2\n",
    "print(tup3)"
   ]
  },
  {
   "cell_type": "code",
   "execution_count": 16,
   "metadata": {},
   "outputs": [
    {
     "ename": "NameError",
     "evalue": "name 'tup3' is not defined",
     "output_type": "error",
     "traceback": [
      "\u001b[1;31m---------------------------------------------------------------------------\u001b[0m",
      "\u001b[1;31mNameError\u001b[0m                                 Traceback (most recent call last)",
      "\u001b[1;32m<ipython-input-16-e3b606a01522>\u001b[0m in \u001b[0;36m<module>\u001b[1;34m\u001b[0m\n\u001b[0;32m      1\u001b[0m \u001b[1;31m#slet tuples\u001b[0m\u001b[1;33m\u001b[0m\u001b[1;33m\u001b[0m\u001b[1;33m\u001b[0m\u001b[0m\n\u001b[0;32m      2\u001b[0m \u001b[1;32mdel\u001b[0m \u001b[0mtup3\u001b[0m\u001b[1;33m\u001b[0m\u001b[1;33m\u001b[0m\u001b[0m\n\u001b[1;32m----> 3\u001b[1;33m \u001b[0mprint\u001b[0m\u001b[1;33m(\u001b[0m\u001b[0mtup3\u001b[0m\u001b[1;33m)\u001b[0m\u001b[1;33m\u001b[0m\u001b[1;33m\u001b[0m\u001b[0m\n\u001b[0m",
      "\u001b[1;31mNameError\u001b[0m: name 'tup3' is not defined"
     ]
    }
   ],
   "source": [
    "#slet tuples\n",
    "del tup3\n",
    "print(tup3)"
   ]
  },
  {
   "cell_type": "code",
   "execution_count": 31,
   "metadata": {},
   "outputs": [
    {
     "name": "stdout",
     "output_type": "stream",
     "text": [
      "5\n"
     ]
    }
   ],
   "source": [
    "#længden af en tuple\n",
    "print(len(tup2))"
   ]
  },
  {
   "cell_type": "code",
   "execution_count": 33,
   "metadata": {},
   "outputs": [
    {
     "name": "stdout",
     "output_type": "stream",
     "text": [
      "physics\n",
      "chemistry\n",
      "1997\n",
      "2000\n"
     ]
    }
   ],
   "source": [
    "#iteration\n",
    "for q in tup1: \n",
    "    print(q)"
   ]
  },
  {
   "cell_type": "code",
   "execution_count": 23,
   "metadata": {},
   "outputs": [],
   "source": [
    "#Sets\n",
    "thisset = {\"apple\", \"banana\", \"cherry\", \"pear\", \"passion fruit\", \"water melon\", \"kiwi\"}"
   ]
  },
  {
   "cell_type": "code",
   "execution_count": 22,
   "metadata": {},
   "outputs": [
    {
     "name": "stdout",
     "output_type": "stream",
     "text": [
      "passion fruit\n",
      "water melon\n",
      "cherry\n",
      "banana\n",
      "pear\n",
      "kiwi\n",
      "apple\n"
     ]
    }
   ],
   "source": [
    "#unordered\n",
    "for q in thisset:\n",
    "    print(q)"
   ]
  },
  {
   "cell_type": "code",
   "execution_count": 20,
   "metadata": {},
   "outputs": [
    {
     "name": "stdout",
     "output_type": "stream",
     "text": [
      "False\n"
     ]
    }
   ],
   "source": [
    "#check efter specifikt item er til stede\n",
    "print(\"hhj\" in thisset)"
   ]
  },
  {
   "cell_type": "code",
   "execution_count": 24,
   "metadata": {},
   "outputs": [
    {
     "name": "stdout",
     "output_type": "stream",
     "text": [
      "{'passion fruit', 'water melon', 'cherry', 'banana', 'pear', 'kiwi', 'orange', 'apple'}\n"
     ]
    }
   ],
   "source": [
    "#tilføj element\n",
    "thisset.add(\"orange\")\n",
    "print(thisset)"
   ]
  },
  {
   "cell_type": "code",
   "execution_count": 25,
   "metadata": {},
   "outputs": [
    {
     "name": "stdout",
     "output_type": "stream",
     "text": [
      "{'passion fruit', 'water melon', 'cherry', 'banana', 'lemon', 'pear', 'lime', 'kiwi', 'orange', 'apple'}\n"
     ]
    }
   ],
   "source": [
    "#tilføj flere elementer\n",
    "thisset.update(['lime','lemon'])\n",
    "print(thisset)"
   ]
  },
  {
   "cell_type": "code",
   "execution_count": 26,
   "metadata": {},
   "outputs": [
    {
     "name": "stdout",
     "output_type": "stream",
     "text": [
      "10\n"
     ]
    }
   ],
   "source": [
    "#length\n",
    "print(len(thisset))"
   ]
  },
  {
   "cell_type": "code",
   "execution_count": 27,
   "metadata": {},
   "outputs": [
    {
     "name": "stdout",
     "output_type": "stream",
     "text": [
      "{'water melon', 'cherry', 'banana', 'lemon', 'pear', 'lime', 'kiwi', 'orange', 'apple'}\n"
     ]
    }
   ],
   "source": [
    "#remove (giver fejl hvis elementet ikke er der)\n",
    "thisset.remove('passion fruit')\n",
    "print(thisset)"
   ]
  },
  {
   "cell_type": "code",
   "execution_count": 28,
   "metadata": {},
   "outputs": [
    {
     "name": "stdout",
     "output_type": "stream",
     "text": [
      "{'water melon', 'cherry', 'banana', 'lemon', 'pear', 'kiwi', 'orange', 'apple'}\n"
     ]
    }
   ],
   "source": [
    "#discard (giver ikke fejl hvis elementet ikke er der)\n",
    "thisset.discard('lime')\n",
    "print(thisset)"
   ]
  },
  {
   "cell_type": "code",
   "execution_count": 29,
   "metadata": {},
   "outputs": [
    {
     "name": "stdout",
     "output_type": "stream",
     "text": [
      "water melon\n",
      "{'cherry', 'banana', 'lemon', 'pear', 'kiwi', 'orange', 'apple'}\n"
     ]
    }
   ],
   "source": [
    "#pop fjerner sidste element (husk at man ikke altid er klar over hvad det sidste element er)\n",
    "x = thisset.pop()\n",
    "print(x)\n",
    "print(thisset)"
   ]
  },
  {
   "cell_type": "code",
   "execution_count": 30,
   "metadata": {},
   "outputs": [
    {
     "name": "stdout",
     "output_type": "stream",
     "text": [
      "set()\n"
     ]
    }
   ],
   "source": [
    "#clear tømmer settet\n",
    "thisset.clear()\n",
    "print(thisset)"
   ]
  },
  {
   "cell_type": "code",
   "execution_count": 31,
   "metadata": {},
   "outputs": [
    {
     "ename": "NameError",
     "evalue": "name 'thisset' is not defined",
     "output_type": "error",
     "traceback": [
      "\u001b[1;31m---------------------------------------------------------------------------\u001b[0m",
      "\u001b[1;31mNameError\u001b[0m                                 Traceback (most recent call last)",
      "\u001b[1;32m<ipython-input-31-3318f601a584>\u001b[0m in \u001b[0;36m<module>\u001b[1;34m\u001b[0m\n\u001b[0;32m      1\u001b[0m \u001b[1;31m#del sletter settet helt\u001b[0m\u001b[1;33m\u001b[0m\u001b[1;33m\u001b[0m\u001b[1;33m\u001b[0m\u001b[0m\n\u001b[0;32m      2\u001b[0m \u001b[1;32mdel\u001b[0m \u001b[0mthisset\u001b[0m\u001b[1;33m\u001b[0m\u001b[1;33m\u001b[0m\u001b[0m\n\u001b[1;32m----> 3\u001b[1;33m \u001b[0mprint\u001b[0m\u001b[1;33m(\u001b[0m\u001b[0mthisset\u001b[0m\u001b[1;33m)\u001b[0m\u001b[1;33m\u001b[0m\u001b[1;33m\u001b[0m\u001b[0m\n\u001b[0m",
      "\u001b[1;31mNameError\u001b[0m: name 'thisset' is not defined"
     ]
    }
   ],
   "source": [
    "#del sletter settet helt\n",
    "del thisset\n",
    "print(thisset)"
   ]
  },
  {
   "cell_type": "code",
   "execution_count": 32,
   "metadata": {},
   "outputs": [
    {
     "name": "stdout",
     "output_type": "stream",
     "text": [
      "{'c', 1, 2, 3, 'a', 'b'}\n"
     ]
    }
   ],
   "source": [
    "#union returnere nyt set med 2 sets værdier\n",
    "set1 = {\"a\", \"b\" , \"c\"}\n",
    "set2 = {1, 2, 3}\n",
    "\n",
    "set3 = set1.union(set2)\n",
    "print(set3)"
   ]
  },
  {
   "cell_type": "code",
   "execution_count": 33,
   "metadata": {},
   "outputs": [
    {
     "name": "stdout",
     "output_type": "stream",
     "text": [
      "{'c', 1, 2, 3, 'a', 'b'}\n"
     ]
    }
   ],
   "source": [
    "#update kan bruges til at indsætte 1 set i et andet\n",
    "set1.update(set2)\n",
    "print(set1)"
   ]
  },
  {
   "cell_type": "code",
   "execution_count": 34,
   "metadata": {},
   "outputs": [
    {
     "name": "stdout",
     "output_type": "stream",
     "text": [
      "Empty Dictionary: \n",
      "{}\n"
     ]
    }
   ],
   "source": [
    "#Dictionary\n",
    "Dict = {} \n",
    "print(\"Empty Dictionary: \") \n",
    "print(Dict) "
   ]
  },
  {
   "cell_type": "code",
   "execution_count": 35,
   "metadata": {},
   "outputs": [
    {
     "name": "stdout",
     "output_type": "stream",
     "text": [
      "{1: 'Geeks', 2: 'For', 3: 'Geeks'}\n"
     ]
    }
   ],
   "source": [
    "#opret dictionary med integer keys\n",
    "Dict = {1: 'Geeks', 2: 'For', 3: 'Geeks'} \n",
    "print(Dict) "
   ]
  },
  {
   "cell_type": "code",
   "execution_count": 60,
   "metadata": {},
   "outputs": [
    {
     "name": "stdout",
     "output_type": "stream",
     "text": [
      "{'Name': 'Geeks', 1: [1, 2, 3, 4]}\n"
     ]
    }
   ],
   "source": [
    "#dictionary med mixed keys\n",
    "Dict = {'Name': 'Geeks', 1: [1, 2, 3, 4]} \n",
    "print(Dict) "
   ]
  },
  {
   "cell_type": "code",
   "execution_count": 36,
   "metadata": {},
   "outputs": [
    {
     "name": "stdout",
     "output_type": "stream",
     "text": [
      "{1: 'Geeks', 2: 'For', 3: 'Geeks'}\n"
     ]
    }
   ],
   "source": [
    "#opret dictionary med dict()\n",
    "Dict = dict({1: 'Geeks', 2: 'For', 3:'Geeks'}) \n",
    "print(Dict) "
   ]
  },
  {
   "cell_type": "code",
   "execution_count": 37,
   "metadata": {},
   "outputs": [
    {
     "name": "stdout",
     "output_type": "stream",
     "text": [
      "{1: 'Geeks', 2: 'For'}\n"
     ]
    }
   ],
   "source": [
    "#opret dictionary med elementer som pairs\n",
    "Dict = dict([(1, 'Geeks'), (2, 'For')]) \n",
    "print(Dict) "
   ]
  },
  {
   "cell_type": "code",
   "execution_count": 38,
   "metadata": {},
   "outputs": [
    {
     "name": "stdout",
     "output_type": "stream",
     "text": [
      "{1: 'Geeks', 2: 'For', 3: {'A': 'Welcome', 'B': 'To', 'C': 'Geeks'}}\n"
     ]
    }
   ],
   "source": [
    "#Nested dictionary\n",
    "Dict = {1: 'Geeks', 2: 'For', 3:{'A' : 'Welcome', 'B' : 'To', 'C' : 'Geeks'}} \n",
    "\n",
    "print(Dict)"
   ]
  },
  {
   "cell_type": "code",
   "execution_count": 39,
   "metadata": {},
   "outputs": [
    {
     "name": "stdout",
     "output_type": "stream",
     "text": [
      "{}\n",
      "{0: 'Geeks'}\n"
     ]
    }
   ],
   "source": [
    "#tilføj enkelt element\n",
    "Dict = {}\n",
    "print(Dict)\n",
    "\n",
    "Dict[0] = 'Geeks'\n",
    "print(Dict)"
   ]
  },
  {
   "cell_type": "code",
   "execution_count": 40,
   "metadata": {},
   "outputs": [
    {
     "name": "stdout",
     "output_type": "stream",
     "text": [
      "{0: 'Geeks', 'Nye': (2, 3, 4)}\n"
     ]
    }
   ],
   "source": [
    "#tilføj set af værdier\n",
    "Dict['Nye'] = 2, 3, 4\n",
    "print(Dict) "
   ]
  },
  {
   "cell_type": "code",
   "execution_count": 42,
   "metadata": {},
   "outputs": [
    {
     "name": "stdout",
     "output_type": "stream",
     "text": [
      "{0: 'Geeks', 'Nye': 'Welcome'}\n"
     ]
    }
   ],
   "source": [
    "#opdater en værdi\n",
    "Dict['Nye'] = 'Welcome'\n",
    "print(Dict) "
   ]
  },
  {
   "cell_type": "code",
   "execution_count": 43,
   "metadata": {},
   "outputs": [
    {
     "name": "stdout",
     "output_type": "stream",
     "text": [
      "{0: 'Geeks', 'Nye': 'Welcome', 1: {'Nested': {1: 'Life', 2: 'Geeks'}}}\n"
     ]
    }
   ],
   "source": [
    "#Tilføj en nested værdi\n",
    "Dict[1] = {'Nested' :{1 : 'Life', 2 : 'Geeks'}} \n",
    "print(Dict) "
   ]
  },
  {
   "cell_type": "code",
   "execution_count": 71,
   "metadata": {},
   "outputs": [
    {
     "name": "stdout",
     "output_type": "stream",
     "text": [
      "For\n",
      "Geeks\n",
      "Geeks\n",
      "\n",
      "Found Geeks\n",
      "\n",
      "Found Geeks\n"
     ]
    }
   ],
   "source": [
    "# tilgå elementer\n",
    "dictionary = {1: 'Geeks', 'name': 'For', 3: 'Geeks'} \n",
    "\n",
    "print(dictionary['name']) \n",
    "print(dictionary[1]) \n",
    "\n",
    "# tilgå element med get metoden\n",
    "print(dictionary.get(3)) \n",
    "\n",
    "#søg\n",
    "for key, value in dictionary.items():\n",
    "    if value == 'Geeks':\n",
    "        print('\\nFound Geeks')"
   ]
  },
  {
   "cell_type": "code",
   "execution_count": 72,
   "metadata": {},
   "outputs": [
    {
     "name": "stdout",
     "output_type": "stream",
     "text": [
      "{5: 'Welcome', 6: 'To', 7: 'Geeks', 'A': {1: 'Geeks', 2: 'For', 3: 'Geeks'}, 'B': {1: 'Geeks', 2: 'Life'}}\n",
      "{5: 'Welcome', 7: 'Geeks', 'A': {1: 'Geeks', 2: 'For', 3: 'Geeks'}, 'B': {1: 'Geeks', 2: 'Life'}}\n"
     ]
    }
   ],
   "source": [
    "# Fjern elementer\n",
    "Dict = { 5 : 'Welcome', 6 : 'To', 7 : 'Geeks', 'A' : {1 : 'Geeks', 2 : 'For', 3 : 'Geeks'}, 'B' : {1 : 'Geeks', 2 : 'Life'}} \n",
    "print(Dict) \n",
    "\n",
    "# fjern en key værdi\n",
    "del Dict[6] \n",
    "print(Dict) \n"
   ]
  },
  {
   "cell_type": "code",
   "execution_count": 73,
   "metadata": {},
   "outputs": [
    {
     "name": "stdout",
     "output_type": "stream",
     "text": [
      "{5: 'Welcome', 7: 'Geeks', 'A': {1: 'Geeks', 3: 'Geeks'}, 'B': {1: 'Geeks', 2: 'Life'}}\n"
     ]
    }
   ],
   "source": [
    "# fjern en nested værdi\n",
    "del Dict['A'][2] \n",
    "print(Dict) "
   ]
  },
  {
   "cell_type": "code",
   "execution_count": 24,
   "metadata": {},
   "outputs": [
    {
     "name": "stdout",
     "output_type": "stream",
     "text": [
      "{7: 'Geeks', 'A': {1: 'Geeks', 3: 'Geeks'}, 'B': {1: 'Geeks', 2: 'Life'}}\n",
      "{7: 'Geeks', 'A': {1: 'Geeks', 3: 'Geeks'}}\n"
     ]
    }
   ],
   "source": [
    "# fjern værdi med pop\n",
    "Dict.pop(5) \n",
    "print(Dict) \n",
    "\n",
    "# popitem fjerne sidste værdi\n",
    "Dict.popitem() \n",
    "print(Dict) "
   ]
  },
  {
   "cell_type": "code",
   "execution_count": 74,
   "metadata": {},
   "outputs": [
    {
     "name": "stdout",
     "output_type": "stream",
     "text": [
      "{}\n"
     ]
    }
   ],
   "source": [
    "# ryd dictionary\n",
    "Dict.clear() \n",
    "print(Dict) "
   ]
  },
  {
   "cell_type": "code",
   "execution_count": 76,
   "metadata": {},
   "outputs": [
    {
     "ename": "NameError",
     "evalue": "name 'Dict' is not defined",
     "output_type": "error",
     "traceback": [
      "\u001b[1;31m---------------------------------------------------------------------------\u001b[0m",
      "\u001b[1;31mNameError\u001b[0m                                 Traceback (most recent call last)",
      "\u001b[1;32m<ipython-input-76-a8baf7146f74>\u001b[0m in \u001b[0;36m<module>\u001b[1;34m\u001b[0m\n\u001b[0;32m      1\u001b[0m \u001b[1;31m#Slet en dictionary\u001b[0m\u001b[1;33m\u001b[0m\u001b[1;33m\u001b[0m\u001b[1;33m\u001b[0m\u001b[0m\n\u001b[1;32m----> 2\u001b[1;33m \u001b[1;32mdel\u001b[0m \u001b[0mDict\u001b[0m\u001b[1;33m\u001b[0m\u001b[1;33m\u001b[0m\u001b[0m\n\u001b[0m\u001b[0;32m      3\u001b[0m \u001b[0mprint\u001b[0m\u001b[1;33m(\u001b[0m\u001b[0mDict\u001b[0m\u001b[1;33m)\u001b[0m\u001b[1;33m\u001b[0m\u001b[1;33m\u001b[0m\u001b[0m\n",
      "\u001b[1;31mNameError\u001b[0m: name 'Dict' is not defined"
     ]
    }
   ],
   "source": [
    "#Slet en dictionary\n",
    "del Dict\n",
    "print(Dict)"
   ]
  },
  {
   "cell_type": "code",
   "execution_count": null,
   "metadata": {},
   "outputs": [],
   "source": []
  }
 ],
 "metadata": {
  "kernelspec": {
   "display_name": "'Python Interactive'",
   "language": "python",
   "name": "6505e1ba-68b8-4c66-bdfd-b928140277ce"
  },
  "language_info": {
   "codemirror_mode": {
    "name": "ipython",
    "version": 3
   },
   "file_extension": ".py",
   "mimetype": "text/x-python",
   "name": "python",
   "nbconvert_exporter": "python",
   "pygments_lexer": "ipython3",
   "version": "3.7.4"
  }
 },
 "nbformat": 4,
 "nbformat_minor": 4
}
