{
 "cells": [
  {
   "cell_type": "markdown",
   "metadata": {},
   "source": [
    "Først context manager er uden yeild, for hvis man skal bruge ALT på en gang\n",
    "Yield er bedre for arbejdehukkomelsen - eftersom det kun bliver læst en ting af gangen"
   ]
  },
  {
   "cell_type": "code",
   "execution_count": 9,
   "metadata": {},
   "outputs": [
    {
     "name": "stdout",
     "output_type": "stream",
     "text": [
      "Exception has been handled\n"
     ]
    }
   ],
   "source": [
    "class File(object):\n",
    "    \n",
    "    def __init__(self, file_name, method):\n",
    "        self.file_obj = open(file_name, method)\n",
    "        \n",
    "    def __enter__(self):\n",
    "        return self.file_obj\n",
    "    \n",
    "    def __exit__(self, type, value, traceback):\n",
    "        print(\"Exception has been handled\")\n",
    "        self.file_obj.close()\n",
    "        return True\n",
    "\n",
    "with File('demo.txt', 'w') as opened_file:\n",
    "    opened_file.undefined_function()"
   ]
  },
  {
   "cell_type": "markdown",
   "metadata": {},
   "source": [
    "Denne er med yield"
   ]
  },
  {
   "cell_type": "code",
   "execution_count": 13,
   "metadata": {},
   "outputs": [
    {
     "name": "stdout",
     "output_type": "stream",
     "text": [
      "Exception has been handled\n"
     ]
    }
   ],
   "source": [
    "class File(object):\n",
    "    \n",
    "    def __init__(self, file_name, method):\n",
    "        self.file_obj = open(file_name, method)\n",
    "        \n",
    "    def __enter__(self):\n",
    "        yield self.file_obj\n",
    "    \n",
    "    def __exit__(self, type, value, traceback):\n",
    "        print(\"Exception has been handled\")\n",
    "        self.file_obj.close()\n",
    "        return True\n",
    "\n",
    "with File('demo.txt', 'w') as opened_file:\n",
    "    opened_file.undefined_function()"
   ]
  },
  {
   "cell_type": "markdown",
   "metadata": {},
   "source": [
    "try catch version"
   ]
  },
  {
   "cell_type": "code",
   "execution_count": 21,
   "metadata": {},
   "outputs": [],
   "source": [
    "try:\n",
    "    f = open('demot.txt','w')\n",
    "except: \n",
    "    print(\"oh shit\")\n",
    "finally:\n",
    "    f.close()"
   ]
  },
  {
   "cell_type": "markdown",
   "metadata": {},
   "source": [
    "en generisk context manager har en __enter__ og __Exit__"
   ]
  },
  {
   "cell_type": "code",
   "execution_count": null,
   "metadata": {},
   "outputs": [],
   "source": []
  },
  {
   "cell_type": "markdown",
   "metadata": {},
   "source": [
    "et samlet eksempel på hvornår __enter__ og __exit__ kaldes"
   ]
  },
  {
   "cell_type": "code",
   "execution_count": 3,
   "metadata": {},
   "outputs": [],
   "source": [
    "class test():\n",
    "\n",
    "    def __init__(self):\n",
    "        print('test class was inited')\n",
    "\n",
    "    def __enter__(self):\n",
    "        print('test class has run __enter__')\n",
    "\n",
    "    def __exit__(self, type, value, traceback):\n",
    "        \n",
    "        print('test class har run __exit__')"
   ]
  },
  {
   "cell_type": "code",
   "execution_count": null,
   "metadata": {},
   "outputs": [],
   "source": []
  },
  {
   "cell_type": "code",
   "execution_count": 5,
   "metadata": {},
   "outputs": [
    {
     "name": "stdout",
     "output_type": "stream",
     "text": [
      "test class was inited\n",
      "test class has run __enter__\n",
      "None\n",
      "test class har run __exit__\n"
     ]
    }
   ],
   "source": [
    "with test() as a:\n",
    "    print(a)"
   ]
  },
  {
   "cell_type": "code",
   "execution_count": 6,
   "metadata": {},
   "outputs": [
    {
     "name": "stdout",
     "output_type": "stream",
     "text": [
      "test class was inited\n",
      "<__main__.test object at 0x0000017E4E4A3F08>\n"
     ]
    }
   ],
   "source": [
    "b = test()\n",
    "\n",
    "print(b)"
   ]
  },
  {
   "cell_type": "code",
   "execution_count": null,
   "metadata": {},
   "outputs": [],
   "source": []
  }
 ],
 "metadata": {
  "kernelspec": {
   "display_name": "Python 3",
   "language": "python",
   "name": "python3"
  },
  "language_info": {
   "codemirror_mode": {
    "name": "ipython",
    "version": 3
   },
   "file_extension": ".py",
   "mimetype": "text/x-python",
   "name": "python",
   "nbconvert_exporter": "python",
   "pygments_lexer": "ipython3",
   "version": "3.7.4"
  }
 },
 "nbformat": 4,
 "nbformat_minor": 2
}
