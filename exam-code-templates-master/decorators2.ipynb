{
 "cells": [
  {
   "cell_type": "code",
   "execution_count": 1,
   "metadata": {},
   "outputs": [],
   "source": [
    "def quotes(*args):\n",
    "    for _ in args:\n",
    "        print(_)"
   ]
  },
  {
   "cell_type": "code",
   "execution_count": null,
   "metadata": {},
   "outputs": [],
   "source": []
  },
  {
   "cell_type": "code",
   "execution_count": 5,
   "metadata": {},
   "outputs": [],
   "source": [
    "def text_file_decorator(func):\n",
    "    def inner(*args):\n",
    "        with open('testfiles/bohr.txt', 'r') as f:\n",
    "            func(''.join(f.readlines())) # or *list -> list unpacking\n",
    "    return inner"
   ]
  },
  {
   "cell_type": "code",
   "execution_count": 6,
   "metadata": {},
   "outputs": [],
   "source": [
    "import csv\n",
    "def csv_decorator(func):\n",
    "    def inner(*args):\n",
    "        with open('testfiles/bohr.csv', 'r') as f:\n",
    "            csv_r = csv.reader(f, delimiter=',')\n",
    "            next(csv_r)                            # skip first row\n",
    "            func(*[row[1] for row in csv_r])       # get content column, and unpack list\n",
    "    return inner"
   ]
  },
  {
   "cell_type": "code",
   "execution_count": null,
   "metadata": {},
   "outputs": [],
   "source": [
    "import json\n",
    "\n",
    "def json_decorator(func):\n",
    "    def inner(*args):\n",
    "        with open('testfiles/bohr.json', 'r') as f:\n",
    "            txt = f.read()\n",
    "            js = json.loads(txt) \n",
    "        func(*[i['quote'] for i in js])\n",
    "    return inner"
   ]
  },
  {
   "cell_type": "code",
   "execution_count": 8,
   "metadata": {},
   "outputs": [],
   "source": [
    "from sqlite3 import connect\n",
    "# create db \n",
    "def conn():\n",
    "    with connect('testfiles/bohr.db') as conn:\n",
    "        cur = conn.cursor()\n",
    "        cur.execute('DROP TABLE IF EXISTS quotes')\n",
    "        cur.execute('CREATE TABLE quotes(id int PRIMARY KEY, quote text, author text)')\n",
    "        cur.execute('INSERT INTO quotes(id, quote, author) VALUES (1, \"An expert is a person who has made all the mistakes that can be made in a very narrow field.\", \"bohr\")')\n",
    "        cur.execute('INSERT INTO quotes(id, quote, author) VALUES (2, \"Prediction is very difficult, especially about the future.\", \"bohr\")')\n",
    "        cur.execute('INSERT INTO quotes(id, quote, author) VALUES(3, \"Those who are not shocked when they first come across quantum theory cannot possibly have understood it.\", \"bohr\")')\n",
    "        return cur\n",
    "# conn()"
   ]
  },
  {
   "cell_type": "code",
   "execution_count": 9,
   "metadata": {},
   "outputs": [],
   "source": [
    "\n",
    "def sqlite_decorator(func):\n",
    "    def inner(*args):\n",
    "        with connect('testfiles/bohr.db') as conn:\n",
    "            cur = conn.cursor()\n",
    "            func(*(i[0] for i in cur.execute('SELECT quote FROM quotes'))) # result from db is return as rows of tuples. i[0] gives the first element of the tuple\n",
    "    return inner"
   ]
  },
  {
   "cell_type": "code",
   "execution_count": 3,
   "metadata": {},
   "outputs": [],
   "source": [
    "@text_file_decorator\n",
    "def citater(*args):\n",
    "    for x in args:\n",
    "        print(x)"
   ]
  },
  {
   "cell_type": "code",
   "execution_count": 4,
   "metadata": {},
   "outputs": [
    {
     "name": "stdout",
     "output_type": "stream",
     "text": [
      "An expert is a person who has made all the mistakes that can be made in a very narrow field.\n",
      "Prediction is very difficult, especially about the future.\n",
      "Those who are not shocked when they first come across quantum theory cannot possibly have understood it.\n",
      "\n"
     ]
    }
   ],
   "source": [
    "citater()"
   ]
  },
  {
   "cell_type": "code",
   "execution_count": null,
   "metadata": {},
   "outputs": [],
   "source": []
  }
 ],
 "metadata": {
  "kernelspec": {
   "display_name": "Python 3",
   "language": "python",
   "name": "python3"
  },
  "language_info": {
   "codemirror_mode": {
    "name": "ipython",
    "version": 3
   },
   "file_extension": ".py",
   "mimetype": "text/x-python",
   "name": "python",
   "nbconvert_exporter": "python",
   "pygments_lexer": "ipython3",
   "version": "3.7.4"
  }
 },
 "nbformat": 4,
 "nbformat_minor": 2
}
