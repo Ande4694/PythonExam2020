{
 "cells": [
  {
   "cell_type": "code",
   "execution_count": 1,
   "metadata": {},
   "outputs": [
    {
     "name": "stdout",
     "output_type": "stream",
     "text": [
      "2\n",
      "3\n",
      "4\n",
      "5\n"
     ]
    }
   ],
   "source": [
    "\n",
    "class MyRange:\n",
    "\n",
    "    def __call__(self, *args):\n",
    "        if len(args) == 1:\n",
    "            self.start = 0\n",
    "            self.end = args[0]\n",
    "            self.step = 1\n",
    "        elif len(args) == 2:\n",
    "            self.start = args[0]\n",
    "            self.end = args[1]\n",
    "            self.step = 1\n",
    "        elif len(args) == 3:\n",
    "            self.start = args[0]\n",
    "            self.end = args[1]\n",
    "            self.step = args[2]\n",
    "        return iter(self)\n",
    "\n",
    "    def __iter__(self):\n",
    "        self.i = self.start\n",
    "        return self\n",
    "\n",
    "    def __next__(self):\n",
    "        try:\n",
    "            if self.end > self.i:\n",
    "                self.tmp = self.i\n",
    "                self.i += self.step\n",
    "                return self.tmp\n",
    "            else:\n",
    "                raise StopIteration\n",
    "        except AttributeError:\n",
    "            raise TypeError('range method is not itterable')\n",
    "\n",
    "\n",
    "my_range = MyRange()\n",
    "x = my_range(2, 6)\n",
    "for i in x:\n",
    "    print(i)\n",
    "\n",
    "\n",
    "# 2. Now do the same, but use a generator function instead.\n"
   ]
  },
  {
   "cell_type": "code",
   "execution_count": null,
   "metadata": {},
   "outputs": [],
   "source": []
  }
 ],
 "metadata": {
  "kernelspec": {
   "display_name": "Python 3",
   "language": "python",
   "name": "python3"
  },
  "language_info": {
   "codemirror_mode": {
    "name": "ipython",
    "version": 3
   },
   "file_extension": ".py",
   "mimetype": "text/x-python",
   "name": "python",
   "nbconvert_exporter": "python",
   "pygments_lexer": "ipython3",
   "version": "3.7.4"
  }
 },
 "nbformat": 4,
 "nbformat_minor": 2
}
