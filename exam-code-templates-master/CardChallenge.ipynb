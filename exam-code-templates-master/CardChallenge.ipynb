{
 "cells": [
  {
   "cell_type": "code",
   "execution_count": 1,
   "metadata": {},
   "outputs": [],
   "source": [
    "import random\n",
    "import string\n",
    "def generate():\n",
    "    cards = []\n",
    "    \n",
    "    for i in range(4):\n",
    "        s = random.choice(string.ascii_uppercase)\n",
    "        d = random.randint(1, 9)\n",
    "        r = random.randint(0, 1)\n",
    "        \n",
    "        if r == 0:\n",
    "            cards.append((s, d))\n",
    "        else:\n",
    "            cards.append((d, s))\n",
    "    \n",
    "    return  tuple(cards)"
   ]
  },
  {
   "cell_type": "code",
   "execution_count": 2,
   "metadata": {},
   "outputs": [],
   "source": [
    "def populate(func, n):\n",
    "    l = []\n",
    "    for _ in range(n):\n",
    "        l.append(func())\n",
    "    return l\n",
    "\n",
    "x = populate(generate, 10)"
   ]
  },
  {
   "cell_type": "code",
   "execution_count": 3,
   "metadata": {},
   "outputs": [
    {
     "data": {
      "text/plain": [
       "[(((2, 'A'), (9, 'J'), (7, 'H'), ('N', 8)), True),\n",
       " ((('D', 9), ('U', 5), ('F', 6), ('V', 1)), False, ('U', 5)),\n",
       " ((('J', 2), (1, 'F'), ('C', 7), (6, 'A')), True),\n",
       " (((4, 'D'), (3, 'Z'), ('Y', 2), ('F', 5)), True),\n",
       " (((5, 'R'), (3, 'J'), (5, 'Z'), (9, 'L')), True),\n",
       " (((1, 'S'), (9, 'B'), (3, 'A'), (6, 'Z')), False, (3, 'A')),\n",
       " ((('W', 4), ('Q', 5), ('G', 1), ('U', 3)), False, ('U', 3)),\n",
       " (((7, 'B'), (2, 'K'), (4, 'B'), ('S', 9)), True),\n",
       " (((5, 'V'), (3, 'K'), ('Z', 3), (7, 'T')), True),\n",
       " (((3, 'F'), ('Y', 8), (5, 'M'), ('P', 3)), True)]"
      ]
     },
     "execution_count": 3,
     "metadata": {},
     "output_type": "execute_result"
    }
   ],
   "source": [
    "\n",
    "# if a card has a Vowel then we have to turn it\n",
    "# if a card has a odd number we have to turn it\n",
    "\n",
    "def check(l):\n",
    "    vowels = ['A', 'E', 'I', 'O', 'U', 'Y']\n",
    "    check = []\n",
    "    \n",
    "    for i in l:\n",
    "        flag = False\n",
    "        for j in i:\n",
    "            if j[0] in vowels and j[1] % 2 == 1:       # a vowel and an odd number\n",
    "                check.append((i, False, j))\n",
    "                flag = True\n",
    "                break\n",
    "            elif type(j[0]) == int and j[0]%2 == 1 and j[1] in vowels:  # an odd number and a vowel\n",
    "                check.append((i, False, j))\n",
    "                flag = True\n",
    "                break\n",
    "        if not flag:\n",
    "            check.append((i, True))\n",
    "   \n",
    "    return check\n",
    "  \n",
    "check(x)"
   ]
  },
  {
   "cell_type": "code",
   "execution_count": null,
   "metadata": {},
   "outputs": [],
   "source": []
  }
 ],
 "metadata": {
  "kernelspec": {
   "display_name": "Python 3",
   "language": "python",
   "name": "python3"
  },
  "language_info": {
   "codemirror_mode": {
    "name": "ipython",
    "version": 3
   },
   "file_extension": ".py",
   "mimetype": "text/x-python",
   "name": "python",
   "nbconvert_exporter": "python",
   "pygments_lexer": "ipython3",
   "version": "3.7.4"
  }
 },
 "nbformat": 4,
 "nbformat_minor": 2
}
