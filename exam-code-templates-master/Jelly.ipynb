{
 "cells": [
  {
   "cell_type": "code",
   "execution_count": null,
   "metadata": {},
   "outputs": [],
   "source": [
    "class Jelly:\n",
    "\n",
    "    def __init__(self, mass):\n",
    "        self.__mass = mass\n",
    "        self.__merge_history = {}  # For saving object id and the object of the merged jelly beans {'123300668' : 80}\n",
    "\n",
    "    def __add__(self, other):\n",
    "        \n",
    "        if other.mass != 0: \n",
    "            self.mass += other.mass                         # add mass of other to self\n",
    "            self.__merge_history[ id(other)] = other.mass     # add merged object to history dictionary\n",
    "            other.mass = 0                                  # remove mass of other object\n",
    "        else:\n",
    "            raise Exception('The other object is a ghost and can not be added')\n",
    "\n",
    "\n",
    "    def __sub__(self, other):\n",
    "            \n",
    "        if id(other) in self.__merge_history:\n",
    "            other.mass = self.__merge_history[id(other)]\n",
    "            self.mass = self.mass - other.mass\n",
    "            self.__merge_history.pop(id(other))\n",
    "        else:\n",
    "            self.mass = self.mass // 2\n",
    "            other.mass = self.mass\n",
    "    \n",
    "    def __eq__(self, other):\n",
    "        if self.mass == other.mass:\n",
    "            return True\n",
    "        return False\n",
    "\n",
    "    def __contains__(self, other):\n",
    "        pass\n",
    "\n",
    "    @property\n",
    "    def mass(self):\n",
    "        return self.__mass\n",
    "\n",
    "    @mass.setter\n",
    "    def mass(self, x):\n",
    "        self.__mass = x\n",
    "\n",
    "        \n",
    "\n",
    "\n",
    "class Jelly_fragment:\n",
    "\n",
    "    def __init__(self):\n",
    "        Jelly_fragment.__mass = 1\n",
    "    \n",
    "    @property\n",
    "    def mass(self):\n",
    "        return Jelly_fragment.__mass \n",
    "\n",
    "    def __del__(self):\n",
    "            pass\n"
   ]
  }
 ],
 "metadata": {
  "kernelspec": {
   "display_name": "Python 3",
   "language": "python",
   "name": "python3"
  },
  "language_info": {
   "codemirror_mode": {
    "name": "ipython",
    "version": 3
   },
   "file_extension": ".py",
   "mimetype": "text/x-python",
   "name": "python",
   "nbconvert_exporter": "python",
   "pygments_lexer": "ipython3",
   "version": "3.7.4"
  }
 },
 "nbformat": 4,
 "nbformat_minor": 2
}
