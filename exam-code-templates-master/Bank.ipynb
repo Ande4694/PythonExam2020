{
 "cells": [
  {
   "cell_type": "code",
   "execution_count": null,
   "metadata": {},
   "outputs": [],
   "source": [
    "\n",
    "class Bank:\n",
    "    def __init__(self, acc):\n",
    "        self.accounts = []\n",
    "        self.accounts.append(acc)\n",
    "\n",
    "\n",
    "\n",
    "\n",
    "class Account:\n",
    "    def __init__(self, no, cust):\n",
    "        self.no = no\n",
    "        self.cust = cust\n",
    "\n",
    "    \n",
    "\n",
    "\n",
    "class Customer:\n",
    "    def __init__(self, name):\n",
    "        self.name = name\n",
    "\n",
    "\"\"\"\n",
    "## Overloading\n",
    "Add the abillity in your code to overload one or more init methods\n",
    "\"\"\"\n",
    "\n",
    "class Customer:\n",
    "    def __init__(self, *args):\n",
    "        if len(args) == 1:\n",
    "            self.name = args[0]\n",
    "\n",
    "      elif len(args) == 2:\n",
    "            self.name = args[0]\n",
    "            self.age = args[1]\n",
    "      else:\n",
    "            self.name = args[0]\n",
    "            self.age = args[1]\n",
    "            self.gender = [2]\n",
    "\n"
   ]
  }
 ],
 "metadata": {
  "kernelspec": {
   "display_name": "Python 3",
   "language": "python",
   "name": "python3"
  },
  "language_info": {
   "codemirror_mode": {
    "name": "ipython",
    "version": 3
   },
   "file_extension": ".py",
   "mimetype": "text/x-python",
   "name": "python",
   "nbconvert_exporter": "python",
   "pygments_lexer": "ipython3",
   "version": "3.7.4"
  }
 },
 "nbformat": 4,
 "nbformat_minor": 2
}
