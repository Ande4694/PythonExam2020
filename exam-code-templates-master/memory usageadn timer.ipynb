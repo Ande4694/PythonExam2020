{
 "cells": [
  {
   "cell_type": "code",
   "execution_count": 3,
   "metadata": {},
   "outputs": [
    {
     "ename": "ModuleNotFoundError",
     "evalue": "No module named 'resource'",
     "output_type": "error",
     "traceback": [
      "\u001b[1;31m---------------------------------------------------------------------------\u001b[0m",
      "\u001b[1;31mModuleNotFoundError\u001b[0m                       Traceback (most recent call last)",
      "\u001b[1;32m<ipython-input-3-48ca81759cc2>\u001b[0m in \u001b[0;36m<module>\u001b[1;34m\u001b[0m\n\u001b[0;32m     24\u001b[0m \"\"\"\n\u001b[0;32m     25\u001b[0m \u001b[1;33m\u001b[0m\u001b[0m\n\u001b[1;32m---> 26\u001b[1;33m \u001b[1;32mimport\u001b[0m \u001b[0mresource\u001b[0m\u001b[1;33m\u001b[0m\u001b[1;33m\u001b[0m\u001b[0m\n\u001b[0m\u001b[0;32m     27\u001b[0m \u001b[1;32mimport\u001b[0m \u001b[0mtime\u001b[0m\u001b[1;33m\u001b[0m\u001b[1;33m\u001b[0m\u001b[0m\n\u001b[0;32m     28\u001b[0m \u001b[1;33m\u001b[0m\u001b[0m\n",
      "\u001b[1;31mModuleNotFoundError\u001b[0m: No module named 'resource'"
     ]
    }
   ],
   "source": [
    "\"\"\" \n",
    "    Timer_memory_measure_deocator_function\n",
    "    \n",
    "    On next monday we will work with generators, generator expressions and list comprehensions. \n",
    "    These topics has a lot to do with program efficiency. \n",
    "    For this we will be measuring or code examples in diffenrent ways and espialy we will time it and messure memmory usage. \n",
    "    Instead of writing:\n",
    "    start = time.time()\n",
    "    // do some stuff here\n",
    "    end = time.time()\n",
    "    print(end - start)\n",
    "    every time we need to time something, we could write a docorator function that does the job for us. \n",
    "    Your job is, if you choose to accept the task, to write a decorator function that can time any piece of code, and another \n",
    "    decorator function that can meassure the memory load. \n",
    "    You can read about time by starting your interpretor and write:\n",
    "        > import time\n",
    "        > help(time)\n",
    "    To check memory usage of a script you can do something like this:\n",
    "        > start_mem = resource.getrusage(resource.RUSAGE_SELF).ru_maxrss\n",
    "        > end_mem = (resource.getrusage(resource.RUSAGE_SELF).ru_maxrss) - start_mem\n",
    "    And you can read about the resource module by starting your interpretor and write:\n",
    "        > import resource \n",
    "        > help(resource)\n",
    "\"\"\"\n",
    "\n",
    "import resource\n",
    "import time\n",
    "\n",
    "def memory(func):\n",
    "\n",
    "    def wrapper(*args, **kwargs):\n",
    "        # meassure memory before\n",
    "        start_mem = resource.getrusage(resource.RUSAGE_SELF).ru_maxrss\n",
    "        \n",
    "        # execute the script\n",
    "        func(*args, **kwargs)\n",
    "        \n",
    "        # meassure memory after\n",
    "        end_mem = (resource.getrusage(resource.RUSAGE_SELF).ru_maxrss) - start_mem\n",
    "        \n",
    "        print(f'Memory usage: {end_mem}')\n",
    "        \n",
    "    return wrapper    \n",
    "\n",
    "def timer(func):\n",
    "    def wrapper(*args, **kwargs):\n",
    "        start = time.time()\n",
    "        func(*args, **kwargs)\n",
    "        end = (time.time()) - start\n",
    "\n",
    "        print(f'Time elapsed: {end}')\n",
    "\n",
    "    return wrapper\n",
    "\n",
    "\n",
    "@timer\n",
    "@memory\n",
    "def divisible_by_7(n):\n",
    "    l = []\n",
    "    for i in range(1, n):\n",
    "        if i%7 == 0:\n",
    "            l.append(i)\n",
    "    return l\n",
    "\n",
    "@timer\n",
    "@memory\n",
    "def divisible_by_7_comp(n):\n",
    "    l1 = [i for i in range(n) if i%7==0]\n",
    "    return l1"
   ]
  },
  {
   "cell_type": "code",
   "execution_count": null,
   "metadata": {},
   "outputs": [],
   "source": []
  }
 ],
 "metadata": {
  "kernelspec": {
   "display_name": "Python 3",
   "language": "python",
   "name": "python3"
  },
  "language_info": {
   "codemirror_mode": {
    "name": "ipython",
    "version": 3
   },
   "file_extension": ".py",
   "mimetype": "text/x-python",
   "name": "python",
   "nbconvert_exporter": "python",
   "pygments_lexer": "ipython3",
   "version": "3.7.4"
  }
 },
 "nbformat": 4,
 "nbformat_minor": 2
}
